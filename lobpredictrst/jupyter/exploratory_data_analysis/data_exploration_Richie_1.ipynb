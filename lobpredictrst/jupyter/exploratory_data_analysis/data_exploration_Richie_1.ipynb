{
 "cells": [
  {
   "cell_type": "code",
   "execution_count": 1,
   "metadata": {
    "collapsed": true
   },
   "outputs": [],
   "source": [
    "#first commit -Richie\n",
    "import pandas as pd\n",
    "import numpy as np"
   ]
  },
  {
   "cell_type": "code",
   "execution_count": 2,
   "metadata": {
    "collapsed": false
   },
   "outputs": [],
   "source": [
    "data_message = pd.read_csv('../../data/raw_data/AAPL_05222012_0930_1300_message.tar.gz',compression='gzip')\n",
    "data_lob = pd.read_csv('../../data/raw_data/AAPL_05222012_0930_1300_LOB_2.tar.gz',compression='gzip')"
   ]
  },
  {
   "cell_type": "code",
   "execution_count": 3,
   "metadata": {
    "collapsed": false
   },
   "outputs": [],
   "source": [
    "#drop redundant time\n",
    "col_names=data_lob.columns\n",
    "delete_list=[i for i in col_names if 'UPDATE_TIME' in i]\n",
    "for i in delete_list:\n",
    "    data_lob=data_lob.drop(i,1)"
   ]
  },
  {
   "cell_type": "code",
   "execution_count": 4,
   "metadata": {
    "collapsed": true
   },
   "outputs": [],
   "source": [
    "#functions for renaming\n",
    "def rename(txt):\n",
    "    txt=txt[16:].split('..')[0]\n",
    "    index=0\n",
    "    ask_bid=''\n",
    "    p_v=''\n",
    "    if txt[-2].isdigit():\n",
    "        index=txt[-2:]\n",
    "    else:\n",
    "        index=txt[-1]\n",
    "    if txt[:3]==\"BID\":\n",
    "        ask_bid='bid'\n",
    "    else:\n",
    "        ask_bid='ask'\n",
    "    if txt[4:9]==\"PRICE\":\n",
    "        p_v='P'\n",
    "    else:\n",
    "        p_v='V'\n",
    "    return('_'.join([p_v,index,ask_bid]))"
   ]
  },
  {
   "cell_type": "code",
   "execution_count": 5,
   "metadata": {
    "collapsed": false
   },
   "outputs": [],
   "source": [
    "#rename columns\n",
    "col_names=data_lob.columns\n",
    "new_col_names=[]\n",
    "new_col_names.append('index')\n",
    "new_col_names.append('Time')\n",
    "for i in col_names[2:]:\n",
    "    new_col_names.append(rename(i))\n",
    "len(new_col_names)\n",
    "data_lob.columns=new_col_names"
   ]
  },
  {
   "cell_type": "code",
   "execution_count": 6,
   "metadata": {
    "collapsed": false
   },
   "outputs": [],
   "source": [
    "#feature: bid-ask spreads and mid price\n",
    "for i in list(range(1, 11)):\n",
    "    bid_ask_col_name='_'.join(['spreads',str(i)])\n",
    "    p_i_ask='_'.join(['P',str(i),'ask'])\n",
    "    p_i_bid='_'.join(['P',str(i),'bid'])\n",
    "    data_lob[bid_ask_col_name]=data_lob[p_i_ask]-data_lob[p_i_bid]\n",
    "    \n",
    "    mid_price_col_name = '_'.join(['mid_price',str(i)])\n",
    "    data_lob[mid_price_col_name]=(data_lob[p_i_ask]+data_lob[p_i_bid])/2\n",
    "    "
   ]
  },
  {
   "cell_type": "code",
   "execution_count": 7,
   "metadata": {
    "collapsed": false
   },
   "outputs": [],
   "source": [
    "#convert time\n",
    "def timetransform(r):\n",
    "    # transform the time to millisecond, starting from 0\n",
    "    timestr = r\n",
    "    return (int(timestr[11:13]) - 9) * 60**2 + (int(timestr[14:16]) - 30) * 60 + float(timestr[17:])\n",
    "time = list(data_lob['Time']) \n",
    "time_new = [timetransform(i) for i in time] \n",
    "data_lob[\"Time\"] = time_new"
   ]
  },
  {
   "cell_type": "code",
   "execution_count": 8,
   "metadata": {
    "collapsed": true
   },
   "outputs": [],
   "source": [
    "time = list(data_message['Time']) \n",
    "time_new = [timetransform(i) for i in time] \n",
    "data_message[\"Time\"] = time_new"
   ]
  },
  {
   "cell_type": "code",
   "execution_count": 9,
   "metadata": {
    "collapsed": false
   },
   "outputs": [],
   "source": [
    "#price difference \n",
    "data_lob['P_diff_ask_10_1']=data_lob['P_10_ask']-data_lob['P_1_ask']\n",
    "data_lob['P_diff_bid_1_10']=data_lob['P_1_bid']-data_lob['P_1_bid']\n",
    "\n",
    "for i in list(range(1, 10)):\n",
    "    P_diff_ask_i_name='_'.join(['P','diff','ask',str(i),str(i+1)])\n",
    "    P_diff_bid_i_name='_'.join(['P','diff','bid',str(i),str(i+1)])\n",
    "    P_i_ask='_'.join(['P',str(i),'ask'])\n",
    "    P_i1_ask='_'.join(['P',str(i+1),'ask'])\n",
    "    P_i_bid='_'.join(['P',str(i),'bid'])\n",
    "    P_i1_bid='_'.join(['P',str(i+1),'bid'])\n",
    "    data_lob[P_diff_ask_i_name]=abs(data_lob[P_i1_ask]-data_lob[P_i_ask])\n",
    "    data_lob[P_diff_bid_i_name]=abs(data_lob[P_i1_bid]-data_lob[P_i_bid])\n"
   ]
  },
  {
   "cell_type": "code",
   "execution_count": 10,
   "metadata": {
    "collapsed": false
   },
   "outputs": [],
   "source": [
    "#mean price and volumns\n",
    "p_ask_list=['_'.join(['P',str(i),'ask']) for i in list(range(1, 11))]\n",
    "p_bid_list=['_'.join(['P',str(i),'bid']) for i in list(range(1, 11))]\n",
    "v_ask_list=['_'.join(['V',str(i),'ask']) for i in list(range(1, 11))]\n",
    "v_bid_list=['_'.join(['V',str(i),'bid']) for i in list(range(1, 11))]\n",
    "\n",
    "\n",
    "data_lob['Mean_ask_price']=0.0\n",
    "data_lob['Mean_bid_price']=0.0\n",
    "data_lob['Mean_ask_volumn']=0.0\n",
    "data_lob['Mean_bid_volumn']=0.0\n",
    "for i in list(range(0, 10)):\n",
    "    data_lob['Mean_ask_price']+=data_lob[p_ask_list[i]]\n",
    "    data_lob['Mean_bid_price']+=data_lob[p_bid_list[i]]\n",
    "    data_lob['Mean_ask_volumn']+=data_lob[v_ask_list[i]]\n",
    "    data_lob['Mean_bid_volumn']+=data_lob[v_bid_list[i]]\n",
    "\n",
    "data_lob['Mean_ask_price']/=10\n",
    "data_lob['Mean_bid_price']/=10\n",
    "data_lob['Mean_ask_volumn']/=10\n",
    "data_lob['Mean_bid_volumn']/=10\n"
   ]
  },
  {
   "cell_type": "code",
   "execution_count": 11,
   "metadata": {
    "collapsed": true
   },
   "outputs": [],
   "source": [
    "#accumulated difference\n",
    "p_ask_list=['_'.join(['P',str(i),'ask']) for i in list(range(1, 11))]\n",
    "p_bid_list=['_'.join(['P',str(i),'bid']) for i in list(range(1, 11))]\n",
    "v_ask_list=['_'.join(['V',str(i),'ask']) for i in list(range(1, 11))]\n",
    "v_bid_list=['_'.join(['V',str(i),'bid']) for i in list(range(1, 11))]\n",
    "\n",
    "data_lob['Accum_diff_price']=0.0\n",
    "data_lob['Accum_diff_volumn']=0.0\n",
    "for i in list(range(0, 10)):\n",
    "    data_lob['Accum_diff_price']+=data_lob[p_ask_list[i]]-data_lob[p_bid_list[i]]\n",
    "    data_lob['Accum_diff_volumn']+=data_lob[v_ask_list[i]]-data_lob[v_bid_list[i]]\n",
    "\n",
    "data_lob['Accum_diff_price']/=10\n",
    "data_lob['Accum_diff_volumn']/=10"
   ]
  },
  {
   "cell_type": "code",
   "execution_count": 12,
   "metadata": {
    "collapsed": false
   },
   "outputs": [],
   "source": [
    "# #price and volumn derivatives\n",
    "\n",
    "# p_ask_list=['_'.join(['P',str(i),'ask']) for i in list(range(1, 11))]\n",
    "# p_bid_list=['_'.join(['P',str(i),'bid']) for i in list(range(1, 11))]\n",
    "# v_ask_list=['_'.join(['V',str(i),'ask']) for i in list(range(1, 11))]\n",
    "# v_bid_list=['_'.join(['V',str(i),'bid']) for i in list(range(1, 11))]\n",
    "\n",
    "# #data_lob['Time_diff']=list(np.zeros(30)+1)+list(np.array(data_lob['Time'][30:])-np.array(data_lob['Time'][:-30]))\n",
    "\n",
    "# for i in list(range(0, 10)):\n",
    "#     P_ask_i_deriv='_'.join(['P','ask',str(i+1),'deriv'])\n",
    "#     P_bid_i_deriv='_'.join(['P','bid',str(i+1),'deriv'])\n",
    "#     V_ask_i_deriv='_'.join(['V','ask',str(i+1),'deriv'])\n",
    "#     V_bid_i_deriv='_'.join(['V','bid',str(i+1),'deriv'])\n",
    "    \n",
    "#     data_lob[P_ask_i_deriv]=list(np.zeros(30))+list(np.array(data_lob[p_ask_list[i]][30:])-np.array(data_lob[p_ask_list[i]][:-30]))\n",
    "#     data_lob[P_bid_i_deriv]=list(np.zeros(30))+list(np.array(data_lob[p_bid_list[i]][30:])-np.array(data_lob[p_bid_list[i]][:-30]))\n",
    "#     data_lob[V_ask_i_deriv]=list(np.zeros(30))+list(np.array(data_lob[v_ask_list[i]][30:])-np.array(data_lob[v_ask_list[i]][:-30]))\n",
    "#     data_lob[V_bid_i_deriv]=list(np.zeros(30))+list(np.array(data_lob[v_bid_list[i]][30:])-np.array(data_lob[v_bid_list[i]][:-30]))  \n",
    "    \n",
    "#     data_lob[P_ask_i_deriv]/=30\n",
    "#     data_lob[P_bid_i_deriv]/=30\n",
    "#     data_lob[V_ask_i_deriv]/=30\n",
    "#     data_lob[V_bid_i_deriv]/=30\n",
    "\n",
    "\n",
    "# #price and volumn derivatives\n",
    "\n",
    "p_ask_list=['_'.join(['P',str(i),'ask']) for i in list(range(1, 11))]\n",
    "p_bid_list=['_'.join(['P',str(i),'bid']) for i in list(range(1, 11))]\n",
    "v_ask_list=['_'.join(['V',str(i),'ask']) for i in list(range(1, 11))]\n",
    "v_bid_list=['_'.join(['V',str(i),'bid']) for i in list(range(1, 11))]\n",
    "\n",
    "#data_lob['Time_diff']=list(np.zeros(30)+1)+list(np.array(data_lob['Time'][30:])-np.array(data_lob['Time'][:-30]))\n",
    "\n",
    "for i in list(range(0, 10)):\n",
    "    P_ask_i_deriv='_'.join(['P','ask',str(i+1),'deriv'])\n",
    "    P_bid_i_deriv='_'.join(['P','bid',str(i+1),'deriv'])\n",
    "    V_ask_i_deriv='_'.join(['V','ask',str(i+1),'deriv'])\n",
    "    V_bid_i_deriv='_'.join(['V','bid',str(i+1),'deriv'])\n",
    "    \n",
    "    data_lob[P_ask_i_deriv]=list(np.zeros(1000))+list(np.array(data_lob[p_ask_list[i]][1000:])-np.array(data_lob[p_ask_list[i]][:-1000]))\n",
    "    data_lob[P_bid_i_deriv]=list(np.zeros(1000))+list(np.array(data_lob[p_bid_list[i]][1000:])-np.array(data_lob[p_bid_list[i]][:-1000]))\n",
    "    data_lob[V_ask_i_deriv]=list(np.zeros(1000))+list(np.array(data_lob[v_ask_list[i]][1000:])-np.array(data_lob[v_ask_list[i]][:-1000]))\n",
    "    data_lob[V_bid_i_deriv]=list(np.zeros(1000))+list(np.array(data_lob[v_bid_list[i]][1000:])-np.array(data_lob[v_bid_list[i]][:-1000]))  \n",
    "    \n",
    "    data_lob[P_ask_i_deriv]/=1000\n",
    "    data_lob[P_bid_i_deriv]/=1000\n",
    "    data_lob[V_ask_i_deriv]/=1000\n",
    "    data_lob[V_bid_i_deriv]/=1000\n"
   ]
  },
  {
   "cell_type": "code",
   "execution_count": null,
   "metadata": {
    "collapsed": false
   },
   "outputs": [],
   "source": [
    "#set labels\n",
    "diff=data_lob['mid_price_1']\n",
    "diff_30=np.array(diff[30:])-np.array(diff[:-30])\n",
    "label=[]\n",
    "for i in diff_30:\n",
    "    if i>0.01:\n",
    "        label.append('1')\n",
    "    elif i<(-0.01):\n",
    "        label.append('-1')\n",
    "    else:\n",
    "        label.append('0')\n",
    "\n",
    "\n",
    "data_lob['labels']=label+list(np.zeros(30))"
   ]
  },
  {
   "cell_type": "code",
   "execution_count": 13,
   "metadata": {
    "collapsed": true
   },
   "outputs": [],
   "source": [
    "#set spread crossing labels\n",
    "p_now_bid = list(data_lob['P_1_bid'][:-1000])\n",
    "p_now_ask = list(data_lob['P_1_ask'][:-1000])\n",
    "\n",
    "p_next_bid=list(data_lob['P_1_bid'][1000:])\n",
    "p_next_ask=list(data_lob['P_1_ask'][1000:])\n",
    "\n",
    "label_SC=[]\n",
    "for i in range(len(p_now_bid)):\n",
    "    if p_next_bid[i]>=p_now_ask[i]:\n",
    "        label_SC.append('+1')\n",
    "    elif p_next_ask[i]<=p_now_bid[i]:\n",
    "        label_SC.append('-1')\n",
    "    else:\n",
    "        label_SC.append('0')\n",
    "\n",
    "\n",
    "data_lob['labels']=label_SC+list(np.zeros(1000))"
   ]
  },
  {
   "cell_type": "code",
   "execution_count": 14,
   "metadata": {
    "collapsed": true
   },
   "outputs": [],
   "source": [
    "#drop first and last 30 rows\n",
    "data_out=data_lob[:-1000]\n",
    "data_out=data_out[1000:]\n",
    "\n",
    "# data_out=data_lob[:-30]\n",
    "# data_out=data_out[30:]\n",
    "\n"
   ]
  },
  {
   "cell_type": "code",
   "execution_count": 15,
   "metadata": {
    "collapsed": false
   },
   "outputs": [],
   "source": [
    "# split train and test\n",
    "# split2=203350-30\n",
    "# split1=int(split2*0.5)\n",
    "# split_test=split1+int(split2*0.25)\n",
    "# split3=279656-30\n",
    "\n",
    "\n",
    "# shuttle=data_out[:split2].reindex(np.random.permutation(data_out[:split2].index))\n",
    "\n",
    "# train=shuttle[:split1]\n",
    "# test=shuttle[split1:split_test]\n",
    "# train_test=shuttle[:split_test]\n",
    "# validation=shuttle[split_test:]\n",
    "# strategy_validation=data_out[split2:split3]\n",
    "\n",
    "# split2=203350-30\n",
    "# split1=int(split2*0.5)\n",
    "# split_test=split1+int(split2*0.25)\n",
    "# split3=279656-30\n",
    "\n",
    "# train=data_out[:split1]\n",
    "# test=data_out[split1:split_test]\n",
    "# train_test=data_out[:split_test]\n",
    "# validation=data_out[split_test:split2]\n",
    "# strategy_validation=data_out[split2:split3]\n",
    "\n",
    "\n",
    "#split for SC\n",
    "# split2=203349-1000\n",
    "# split1=int(split2*0.5)\n",
    "# split_test=split1+int(split2*0.25)\n",
    "# split3=279656-1000\n",
    "\n",
    "# train=data_out[:split1]\n",
    "# test=data_out[split1:split_test]\n",
    "# train_test=data_out[:split_test]\n",
    "# validation=data_out[split_test:split2]\n",
    "# strategy_validation=data_out[split2:split3]\n",
    "\n",
    "#split shuttle for SC\n",
    "\n",
    "split2=203349-1000\n",
    "split1=int(split2*0.5)\n",
    "split_test=split1+int(split2*0.25)\n",
    "split3=279656-1000\n",
    "\n",
    "\n",
    "shuttle=data_out[:split2].reindex(np.random.permutation(data_out[:split2].index))\n",
    "\n",
    "train=shuttle[:split1]\n",
    "test=shuttle[split1:split_test]\n",
    "train_test=shuttle[:split_test]\n",
    "validation=shuttle[split_test:]\n",
    "strategy_validation=data_out[split2:split3]\n",
    "\n"
   ]
  },
  {
   "cell_type": "code",
   "execution_count": 17,
   "metadata": {
    "collapsed": false
   },
   "outputs": [],
   "source": [
    "\n",
    "train_sample=train.sample(int(0.1*len(train)))\n",
    "test_sample=test.sample(int(0.1*len(test)))\n",
    "train_test_sample=train_test.sample(int(0.1*len(train_test)))\n",
    "validation_sample=validation.sample(int(0.1*len(validation)))\n",
    "strategy_validation_sample=strategy_validation.sample(int(0.1*len(strategy_validation)))\n",
    "\n"
   ]
  },
  {
   "cell_type": "code",
   "execution_count": 22,
   "metadata": {
    "collapsed": false
   },
   "outputs": [
    {
     "name": "stdout",
     "output_type": "stream",
     "text": [
      "Pos:0.30; Neg:0.36; Zero:0.34;\n"
     ]
    }
   ],
   "source": [
    "label_percent(np.array(train_test_sample['labels']).astype('int'))"
   ]
  },
  {
   "cell_type": "code",
   "execution_count": null,
   "metadata": {
    "collapsed": false
   },
   "outputs": [],
   "source": [
    "data_out[data_out['Time']>(5400+3600)]"
   ]
  },
  {
   "cell_type": "code",
   "execution_count": null,
   "metadata": {
    "collapsed": false
   },
   "outputs": [],
   "source": [
    "diff=data_lob['mid_price_1']\n",
    "diff_10=np.array(diff[10:])-np.array(diff[:-10])\n",
    "diff_20=np.array(diff[20:])-np.array(diff[:-20])\n",
    "diff_30=np.array(diff[30:])-np.array(diff[:-30])\n",
    "diff_40=np.array(diff[40:])-np.array(diff[:-40])\n",
    "print('Delta=10:')\n",
    "label_percent(diff_10)\n",
    "print('Delta=20:')\n",
    "label_percent(diff_20)\n",
    "print('Delta=30:')\n",
    "label_percent(diff_30)\n",
    "print('Delta=40:')\n",
    "label_percent(diff_40)\n",
    "\n",
    "\n",
    "# Delta=10:\n",
    "# Pos:0.31; Neg:0.33; Zero:0.36; \n",
    "# Delta=20:\n",
    "# Pos:0.39; Neg:0.42; Zero:0.19;\n",
    "# Delta=30:\n",
    "# Pos:0.42; Neg:0.46; Zero:0.11;\n",
    "# Delta=40:\n",
    "# Pos:0.44; Neg:0.48; Zero:0.07;"
   ]
  },
  {
   "cell_type": "code",
   "execution_count": 19,
   "metadata": {
    "collapsed": false
   },
   "outputs": [],
   "source": [
    "def label_percent(v):\n",
    "    l=len(v)\n",
    "    pos=sum(x > 0 for x in v)/l\n",
    "    neg=sum(x < 0 for x in v)/l\n",
    "    zero=sum(x == 0 for x in v)/l\n",
    "    print('Pos:'+str(\"{0:.2f}\".format(pos))+\"; Neg:\"+str(\"{0:.2f}\".format(neg))+'; Zero:'+str(\"{0:.2f}\".format(zero))+';')"
   ]
  },
  {
   "cell_type": "code",
   "execution_count": 24,
   "metadata": {
    "collapsed": false
   },
   "outputs": [],
   "source": [
    "# train.to_csv('../../data/output/model_clean_data/train.csv')\n",
    "# test.to_csv('../../data/output/model_clean_data/test.csv')\n",
    "# validation.to_csv('../../data/output/model_clean_data/validation.csv')\n",
    "# train_test.to_csv('../../data/output/model_clean_data/train_test.csv')\n",
    "# strategy_validation.to_csv('../../data/output/model_clean_data/strategy_validation.csv')\n",
    "\n",
    "train_sample.to_csv('../../data/output/model_clean_data/train.csv')\n",
    "test_sample.to_csv('../../data/output/model_clean_data/test.csv')\n",
    "validation_sample.to_csv('../../data/output/model_clean_data/validation.csv')\n",
    "train_test_sample.to_csv('../../data/output/model_clean_data/train_test.csv')\n",
    "strategy_validation_sample.to_csv('../../data/output/model_clean_data/strategy_validation.csv')\n"
   ]
  },
  {
   "cell_type": "code",
   "execution_count": null,
   "metadata": {
    "collapsed": false
   },
   "outputs": [],
   "source": [
    "data_out[:1000].to_csv('/Users/Richie/Desktop/sample.csv')"
   ]
  },
  {
   "cell_type": "code",
   "execution_count": 64,
   "metadata": {
    "collapsed": false
   },
   "outputs": [],
   "source": [
    "#combine train test validation\n",
    "data_train_test1 = pd.read_csv('../../data/output/model_clean_data/SC_shuffle/train_test.tar.gz',compression='gzip')\n",
    "data_validation1 = pd.read_csv('../../data/output/model_clean_data/SC_shuffle/validation.tar.gz',compression='gzip')\n",
    "\n",
    "combine1= pd.concat([data_train_test1,data_validation1],join='inner')\n",
    "combine1.to_csv('../../data/output/model_clean_data/train_test_validation_1.csv')\n",
    "\n",
    "data_train_test2 = pd.read_csv('../../data/output/model_clean_data/SC_chrono/train_test.tar.gz',compression='gzip')\n",
    "data_validation2 = pd.read_csv('../../data/output/model_clean_data/SC_chrono/validation.tar.gz',compression='gzip')\n",
    "\n",
    "combine2= pd.concat([data_train_test2,data_validation2],join='inner')\n",
    "combine2.to_csv('../../data/output/model_clean_data/train_test_validation_2.csv')\n",
    "\n",
    "data_train_test3 = pd.read_csv('../../data/output/model_clean_data/SC_sample/train_test.tar.gz',compression='gzip')\n",
    "data_validation3 = pd.read_csv('../../data/output/model_clean_data/SC_sample/validation.tar.gz',compression='gzip')\n",
    "\n",
    "combine3= pd.concat([data_train_test3,data_validation3],join='inner')\n",
    "combine3.to_csv('../../data/output/model_clean_data/train_test_validation_3.csv')\n",
    "\n",
    "data_train_test4 = pd.read_csv('../../data/output/model_clean_data/MP_shuffle/train_test.tar.gz',compression='gzip')\n",
    "data_validation4 = pd.read_csv('../../data/output/model_clean_data/MP_shuffle/validation.tar.gz',compression='gzip')\n",
    "\n",
    "combine4= pd.concat([data_train_test4,data_validation4],join='inner')\n",
    "combine4.to_csv('../../data/output/model_clean_data/train_test_validation_4.csv')\n",
    "\n",
    "data_train_test5 = pd.read_csv('../../data/output/model_clean_data/MP_chrono/train_test.tar.gz',compression='gzip')\n",
    "data_validation5 = pd.read_csv('../../data/output/model_clean_data/MP_chrono/validation.tar.gz',compression='gzip')\n",
    "\n",
    "combine5= pd.concat([data_train_test5,data_validation5],join='inner')\n",
    "combine5.to_csv('../../data/output/model_clean_data/train_test_validation_5.csv')\n",
    "\n",
    "data_train_test6 = pd.read_csv('../../data/output/model_clean_data/MP_sample/train_test.tar.gz',compression='gzip')\n",
    "data_validation6 = pd.read_csv('../../data/output/model_clean_data/MP_sample/validation.tar.gz',compression='gzip')\n",
    "\n",
    "combine6= pd.concat([data_train_test6,data_validation6],join='inner')\n",
    "combine6.to_csv('../../data/output/model_clean_data/train_test_validation_6.csv')\n"
   ]
  },
  {
   "cell_type": "code",
   "execution_count": null,
   "metadata": {
    "collapsed": true
   },
   "outputs": [],
   "source": []
  }
 ],
 "metadata": {
  "kernelspec": {
   "display_name": "Python 3",
   "language": "python",
   "name": "python3"
  },
  "language_info": {
   "codemirror_mode": {
    "name": "ipython",
    "version": 3
   },
   "file_extension": ".py",
   "mimetype": "text/x-python",
   "name": "python",
   "nbconvert_exporter": "python",
   "pygments_lexer": "ipython3",
   "version": "3.5.1"
  }
 },
 "nbformat": 4,
 "nbformat_minor": 0
}
