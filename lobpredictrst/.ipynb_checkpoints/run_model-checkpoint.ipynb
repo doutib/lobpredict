{
 "cells": [
  {
   "cell_type": "code",
   "execution_count": 3,
   "metadata": {
    "collapsed": false
   },
   "outputs": [],
   "source": [
    "import sys\n",
    "import imp\n",
    "import yaml\n",
    "import csv\n",
    "import pandas as pd\n",
    "import re\n",
    "from rf import *\n",
    "modl = imp.load_source('read_model_yaml', 'read_model_yaml.py')"
   ]
  },
  {
   "cell_type": "code",
   "execution_count": 4,
   "metadata": {
    "collapsed": true
   },
   "outputs": [],
   "source": [
    "# Import argument\n",
    "inp_yaml = \"model/spec/SS/SS_RF_1.yaml\"\n",
    "#inp_yaml = sys.argv[1]"
   ]
  },
  {
   "cell_type": "code",
   "execution_count": 5,
   "metadata": {
    "collapsed": false
   },
   "outputs": [],
   "source": [
    "# Open test and train sets\n",
    "df_test = pd.read_csv(\"data/output/model_clean_data/test.tar.gz\",compression='gzip', index_col = None)\n",
    "df_train = pd.read_csv(\"data/output/model_clean_data/train.tar.gz\",compression='gzip', index_col = None)\n",
    "\n",
    "# Define test/training set\n",
    "X_test =  np.array(df_test.drop(['labels'], axis = 1))\n",
    "Y_test =  np.array(df_test[['labels']])[:,0]\n",
    "X_train = np.array(df_train.drop(['labels'], axis = 1))\n",
    "Y_train = np.array(df_train[['labels']])[:,0]"
   ]
  },
  {
   "cell_type": "code",
   "execution_count": 18,
   "metadata": {
    "collapsed": false
   },
   "outputs": [],
   "source": [
    "def write(filename,results,labels):\n",
    "    \"\"\"\n",
    "    Write results into csv file.\n",
    "    \n",
    "    Parameters\n",
    "    ----------\n",
    "    filename : string\n",
    "        filename to output the result\n",
    "    results : list or numpy array\n",
    "        results of some simulation\n",
    "    labels : list\n",
    "        labels for the results, i.e. names of parameters and metrics\n",
    "    \"\"\"\n",
    "    ## # Write into csv file\n",
    "    # TODO: labels as header\n",
    "    results.tofile(filename,sep=',')\n",
    "\n",
    "\n",
    "def run_model(inp_yaml,X_train,Y_train,X_test,Y_test):\n",
    "    \"\"\"Apply trees in the forest to X, return leaf indices.\n",
    "        Parameters\n",
    "        ----------\n",
    "        inp_yaml : A yaml file with model specifications\n",
    "\n",
    "        Returns\n",
    "        -------\n",
    "        parameters_dict : A python dictionary with the model specifications\n",
    "                          to be used to encode metadata for the model\n",
    "                          and pass into specific model functions e.g. random\n",
    "                          forest\n",
    "        \"\"\"    \n",
    "    \n",
    "    # Define output file name based on input\n",
    "    folder_name = re.split(\"/\",\"model/spec/SS/SS_RF_1.yaml\")[2]\n",
    "    file_name = re.split(\"/\",\"model/spec/SS/SS_RF_1.yaml\")[3][:-5]\n",
    "    output = 'data/output/'+folder_name+'/'+file_name+'.csv'\n",
    "    \n",
    "    yaml_params = modl.read_model_yaml(inp_yaml)\n",
    "    \n",
    "    if yaml_params[\"model_type\"] == \"RF\":        \n",
    "        n_estimators  = yaml_params[\"parameters\"][\"n_estimators\"]\n",
    "        criterion     = yaml_params[\"parameters\"][\"criterion\"]   \n",
    "        max_features  = yaml_params[\"parameters\"][\"max_features\"]          \n",
    "        max_depth     = yaml_params[\"parameters\"][\"max_depth\"]      \n",
    "        n_jobs        = yaml_params[\"parameters\"][\"n_jobs\"]\n",
    "        \n",
    "        # Define labels of output\n",
    "        labels = [\"logloss\",\n",
    "                  \"miss_err\",\n",
    "                  \"prec\",\n",
    "                  \"recall\",\n",
    "                  \"f1\",\n",
    "                  \"n_estimators\",\n",
    "                  \"criterion\",   \n",
    "                  \"max_features\",\n",
    "                  \"max_depth\"]\n",
    "        \n",
    "        # Run many simulations in parallel using as many cores as necessary\n",
    "        if yaml_params[\"simulations\"]:\n",
    "            # Run simulation\n",
    "            result = rf_simulation(X_train      = X_train,\n",
    "                                   Y_train      = Y_train,\n",
    "                                   X_test       = X_test,\n",
    "                                   Y_test       = Y_test,\n",
    "                                   n_estimators = n_estimators,\n",
    "                                   criterion    = criterion,\n",
    "                                   max_features = max_features,\n",
    "                                   max_depth    = max_depth)\n",
    "\n",
    "            # Write into csv\n",
    "            write(output,result,labels)\n",
    "        \n",
    "        # Run a single simulation\n",
    "        else:\n",
    "            labels.append(\"n_jobs\")\n",
    "            # Run simulation\n",
    "            result = rf(X_train     = X_train,\n",
    "                       Y_train      = Y_train,\n",
    "                       X_test       = X_test,\n",
    "                       Y_test       = Y_test,\n",
    "                       n_estimators = n_estimators,\n",
    "                       criterion    = criterion,\n",
    "                       max_features = max_features,\n",
    "                       max_depth    = max_depth)\n",
    "            \n",
    "            result = np.array([result])\n",
    "            # Write into csv\n",
    "            write(output,result,labels)\n",
    "        "
   ]
  },
  {
   "cell_type": "code",
   "execution_count": 19,
   "metadata": {
    "collapsed": false
   },
   "outputs": [],
   "source": [
    "# Run the model\n",
    "run_model(inp_yaml,X_train,Y_train,X_test,Y_test)"
   ]
  },
  {
   "cell_type": "code",
   "execution_count": null,
   "metadata": {
    "collapsed": true
   },
   "outputs": [],
   "source": []
  }
 ],
 "metadata": {
  "kernelspec": {
   "display_name": "Python 3",
   "language": "python",
   "name": "python3"
  },
  "language_info": {
   "codemirror_mode": {
    "name": "ipython",
    "version": 3
   },
   "file_extension": ".py",
   "mimetype": "text/x-python",
   "name": "python",
   "nbconvert_exporter": "python",
   "pygments_lexer": "ipython3",
   "version": "3.5.1"
  }
 },
 "nbformat": 4,
 "nbformat_minor": 0
}
