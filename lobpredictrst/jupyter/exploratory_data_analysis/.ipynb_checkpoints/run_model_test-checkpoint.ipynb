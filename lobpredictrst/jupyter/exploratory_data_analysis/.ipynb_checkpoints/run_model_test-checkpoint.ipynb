{
 "cells": [
  {
   "cell_type": "code",
   "execution_count": 8,
   "metadata": {
    "collapsed": false
   },
   "outputs": [],
   "source": [
    "import imp\n",
    "import yaml\n",
    "import csv\n",
    "#modl = imp.load_source('read_model_yaml', '../read_model_yaml.py')\n",
    "modl = imp.load_source('read_model_yaml', '../../read_model_yaml.py')"
   ]
  },
  {
   "cell_type": "code",
   "execution_count": 10,
   "metadata": {
    "collapsed": false
   },
   "outputs": [],
   "source": [
    "a = modl.read_model_yaml(\"../../model/spec/SS/SS_RF_1.yaml\")"
   ]
  },
  {
   "cell_type": "code",
   "execution_count": 11,
   "metadata": {
    "collapsed": false
   },
   "outputs": [
    {
     "data": {
      "text/plain": [
       "dict_keys(['label_colname', 'test_data_source', 'simulations', 'train_data_source', 'parameters', 'author', 'model_type', 'holdout_data_source', 'predict'])"
      ]
     },
     "execution_count": 11,
     "metadata": {},
     "output_type": "execute_result"
    }
   ],
   "source": [
    "a.keys()"
   ]
  },
  {
   "cell_type": "code",
   "execution_count": 12,
   "metadata": {
    "collapsed": false
   },
   "outputs": [
    {
     "data": {
      "text/plain": [
       "dict_values(['label_granular', 'clean_test.csv', False, 'clean_train.csv', {'criterion': 'gini', 'max_depth': 2, 'n_estimators': 10, 'max_features': 'auto', 'n_jobs': 1}, 'SHAMINDRA', 'RF', 'clean_holdout.csv', False])"
      ]
     },
     "execution_count": 12,
     "metadata": {},
     "output_type": "execute_result"
    }
   ],
   "source": [
    "a.values()"
   ]
  },
  {
   "cell_type": "code",
   "execution_count": 13,
   "metadata": {
    "collapsed": false
   },
   "outputs": [
    {
     "ename": "SyntaxError",
     "evalue": "invalid syntax (<ipython-input-13-44044386c4ef>, line 25)",
     "output_type": "error",
     "traceback": [
      "\u001b[0;36m  File \u001b[0;32m\"<ipython-input-13-44044386c4ef>\"\u001b[0;36m, line \u001b[0;32m25\u001b[0m\n\u001b[0;31m    X_train =\u001b[0m\n\u001b[0m              ^\u001b[0m\n\u001b[0;31mSyntaxError\u001b[0m\u001b[0;31m:\u001b[0m invalid syntax\n"
     ]
    }
   ],
   "source": [
    "# Run model\n",
    "import imp\n",
    "import yaml\n",
    "import sys\n",
    "modl = imp.load_source('read_model_yaml', '../read_model_yaml.py')\n",
    "\n",
    "inp_yaml = sys.argv[1]\n",
    "\n",
    "def write(filename,results,labels,level=1):\n",
    "    \"\"\"\n",
    "    Write results into csv file.\n",
    "    \n",
    "    Parameters\n",
    "    ----------\n",
    "    filename : string\n",
    "        filename to output the result\n",
    "    results : list or numpy array\n",
    "        results of some simulation\n",
    "    labels : list\n",
    "        labels for the results, i.e. names of parameters and metrics\n",
    "    level : int, either 1 or 2\n",
    "        first dimension of the 'results' array\n",
    "        \n",
    "    \"\"\"\n",
    "    ## # Write into csv file\n",
    "    with open(filename, 'wb') as f:\n",
    "        writer = csv.writer(f)\n",
    "        writer.writerow(labels)\n",
    "        if level == 2:\n",
    "            writer.writerows(results)\n",
    "        else:\n",
    "            writer.writerow(results)\n",
    "\n",
    "    \n",
    "\n",
    "def run_model(inp_yaml):\n",
    "    \"\"\"Apply trees in the forest to X, return leaf indices.\n",
    "        Parameters\n",
    "        ----------\n",
    "        inp_yaml : A yaml file with model specifications\n",
    "\n",
    "        Returns\n",
    "        -------\n",
    "        parameters_dict : A python dictionary with the model specifications\n",
    "                          to be used to encode metadata for the model\n",
    "                          and pass into specific model functions e.g. random\n",
    "                          forest\n",
    "        \"\"\"    \n",
    "    \n",
    "    \n",
    "    # TODO: Fix this\n",
    "    X_train = \n",
    "    Y_train = \n",
    "    X_test  = \n",
    "    Y_test  = \n",
    "    \n",
    "    yaml_params = modl.read_model_yaml(inp_yaml)\n",
    "    \n",
    "    # TODO: define output file name\n",
    "    filename = \n",
    "    \n",
    "    if yaml_params[\"model_type\"] = \"RF\":\n",
    "        n_estimators  = yaml_params[\"parameters\"][\"n_estimators\"]\n",
    "        criterion     = yaml_params[\"parameters\"][\"criterion\"]   \n",
    "        max_features  = yaml_params[\"parameters\"][\"max_features\"]          \n",
    "        max_depth     = yaml_params[\"parameters\"][\"max_depth\"]      \n",
    "        n_jobs        = yaml_params[\"parameters\"][\"n_jobs\"]\n",
    "        \n",
    "        # Define labels of output\n",
    "        labels = [\"logloss\",\n",
    "                  \"miss_err\",\n",
    "                  \"prec\",\n",
    "                  \"recall\",\n",
    "                  \"f1\",\n",
    "                  \"C\",\n",
    "                  \"n_estimators\",\n",
    "                  \"criterion\",   \n",
    "                  \"max_features\",\n",
    "                  \"max_depth\"]\n",
    "        \n",
    "        # Run many simulations in parallel using as many cores as necessary\n",
    "        if yaml_params[\"simulations\"]:\n",
    "            # Run simulation\n",
    "            result = rf_simulation(X_train      = X_train,\n",
    "                                  Y_train      = Y_train,\n",
    "                                  X_test       = X_test,\n",
    "                                  Y_test       = Y_test,\n",
    "                                  n_estimators = n_estimators,\n",
    "                                  criterion    = criterion,\n",
    "                                  max_features = max_features,\n",
    "                                  max_depth    = max_depth)\n",
    "            # Write into csv\n",
    "            write(filename,result,labels,level=1)\n",
    "        \n",
    "        # Run a single simulation\n",
    "        else:\n",
    "            # Run simulation\n",
    "            result = rf(X_train      = X_train,\n",
    "                       Y_train      = Y_train,\n",
    "                       X_test       = X_test,\n",
    "                       Y_test       = Y_test,\n",
    "                       n_estimators = n_estimators,\n",
    "                       criterion    = criterion,\n",
    "                       max_features = max_features,\n",
    "                       max_depth    = max_depth)\n",
    "            # Write into csv\n",
    "            write(filename,result,labels,level=2)\n",
    "        \n",
    "\n",
    "# Run the model!    \n",
    "run_model(inp_yaml = inp_yaml)"
   ]
  },
  {
   "cell_type": "code",
   "execution_count": null,
   "metadata": {
    "collapsed": true
   },
   "outputs": [],
   "source": []
  }
 ],
 "metadata": {
  "kernelspec": {
   "display_name": "Python 3",
   "language": "python",
   "name": "python3"
  },
  "language_info": {
   "codemirror_mode": {
    "name": "ipython",
    "version": 3
   },
   "file_extension": ".py",
   "mimetype": "text/x-python",
   "name": "python",
   "nbconvert_exporter": "python",
   "pygments_lexer": "ipython3",
   "version": "3.5.1"
  }
 },
 "nbformat": 4,
 "nbformat_minor": 0
}
