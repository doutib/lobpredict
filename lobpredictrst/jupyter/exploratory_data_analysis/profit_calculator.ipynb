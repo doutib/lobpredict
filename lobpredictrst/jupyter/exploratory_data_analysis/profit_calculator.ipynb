{
 "cells": [
  {
   "cell_type": "markdown",
   "metadata": {},
   "source": [
    "# Profit calculator"
   ]
  },
  {
   "cell_type": "code",
   "execution_count": 3,
   "metadata": {
    "collapsed": true
   },
   "outputs": [],
   "source": [
    "# Direct Python to plot all figures inline (i.e., not in a separate window)\n",
    "%matplotlib inline\n",
    "\n",
    "# Load libraries\n",
    "import numpy as np\n",
    "import pandas as pd\n",
    "import matplotlib.pyplot as plt\n",
    "from scipy import stats\n",
    "\n",
    "# Division of two integers in Python 2.7 does not return a floating point result. The default is to round down \n",
    "# to the nearest integer. The following piece of code changes the default.\n",
    "from __future__ import division"
   ]
  },
  {
   "cell_type": "code",
   "execution_count": 94,
   "metadata": {
    "collapsed": false
   },
   "outputs": [],
   "source": [
    "def profit_calculator(data, delta_t = 30):\n",
    "    \"\"\"Calculate the profit of trading strategy based on precisely the prediction of the model\n",
    "        Parameters\n",
    "        ----------\n",
    "        data : a data frame with \"predicted\" \"P_1_bid\" \"P_1_ask\"\n",
    "        delta_t : time gap between \n",
    "\n",
    "        Returns\n",
    "        -------\n",
    "        profit        : a numeric, the net profit at the end\n",
    "        profit_series : a np.array, time series tracking net profit at each point of time\n",
    "        \n",
    "        \"\"\"    \n",
    "    data_effective = data.loc[np.arange(len(data)) % delta_t == 0]\n",
    "    bid = data_effective['P_1_bid']\n",
    "    ask = data_effective['P_1_ask']\n",
    "    trade_decision = data_effective[\"predicted\"][:-1]\n",
    "    buy_profit = np.array(bid[1:]) - np.array(ask[:-1])\n",
    "    profit = sum(trade_decision * buy_profit)\n",
    "    return profit"
   ]
  },
  {
   "cell_type": "code",
   "execution_count": 95,
   "metadata": {
    "collapsed": false
   },
   "outputs": [
    {
     "data": {
      "text/plain": [
       "7.0"
      ]
     },
     "execution_count": 95,
     "metadata": {},
     "output_type": "execute_result"
    }
   ],
   "source": [
    "##### test #####\n",
    "\n",
    "d = {'predicted' : pd.Series([0, 1, 1, -1, 0, 1, 1, -1]),\n",
    "     'P_1_bid' : pd.Series([1., 2., 3., 4., 1., 2., 3., 4.]),\n",
    "    'P_1_ask' : pd.Series([1., 2., 3., 4., 1., 2., 3., 4.])}\n",
    "\n",
    "df = pd.DataFrame(d)\n",
    "profit_calculator(data = df, delta_t = 1)"
   ]
  }
 ],
 "metadata": {
  "kernelspec": {
   "display_name": "Python 3",
   "language": "python",
   "name": "python3"
  },
  "language_info": {
   "codemirror_mode": {
    "name": "ipython",
    "version": 3
   },
   "file_extension": ".py",
   "mimetype": "text/x-python",
   "name": "python",
   "nbconvert_exporter": "python",
   "pygments_lexer": "ipython3",
   "version": "3.5.1"
  }
 },
 "nbformat": 4,
 "nbformat_minor": 0
}
