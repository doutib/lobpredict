{
 "cells": [
  {
   "cell_type": "code",
   "execution_count": 1,
   "metadata": {
    "collapsed": true
   },
   "outputs": [],
   "source": [
    "import sys\n",
    "import imp\n",
    "import yaml\n",
    "import csv\n",
    "import pandas as pd\n",
    "import re\n",
    "import numpy as np\n",
    "# Import the random forest package\n",
    "from sklearn.ensemble import RandomForestClassifier\n",
    "from sklearn.metrics import classification_report"
   ]
  },
  {
   "cell_type": "code",
   "execution_count": 2,
   "metadata": {
    "collapsed": true
   },
   "outputs": [],
   "source": [
    "def label_percent(v):\n",
    "    l=len(v)\n",
    "    pos=sum(x > 0 for x in v)/l\n",
    "    neg=sum(x < 0 for x in v)/l\n",
    "    zero=sum(x == 0 for x in v)/l\n",
    "    print('Pos:'+str(\"{0:.2f}\".format(pos))+\"; Neg:\"+str(\"{0:.2f}\".format(neg))+'; Zero:'+str(\"{0:.2f}\".format(zero))+';')"
   ]
  },
  {
   "cell_type": "code",
   "execution_count": 3,
   "metadata": {
    "collapsed": true
   },
   "outputs": [],
   "source": [
    "# Open test and train sets\n",
    "df_train = pd.read_csv(\"data/output/model_clean_data/train1.tar.gz\", compression='gzip', index_col = None)\n",
    "df_test  = pd.read_csv(\"data/output/model_clean_data/test1.tar.gz\" , compression='gzip', index_col = None)"
   ]
  },
  {
   "cell_type": "code",
   "execution_count": 4,
   "metadata": {
    "collapsed": false
   },
   "outputs": [
    {
     "data": {
      "text/html": [
       "<div>\n",
       "<table border=\"1\" class=\"dataframe\">\n",
       "  <thead>\n",
       "    <tr style=\"text-align: right;\">\n",
       "      <th></th>\n",
       "      <th>train.csv</th>\n",
       "      <th>index</th>\n",
       "      <th>Time</th>\n",
       "      <th>P_1_bid</th>\n",
       "      <th>V_1_bid</th>\n",
       "      <th>P_1_ask</th>\n",
       "      <th>V_1_ask</th>\n",
       "      <th>P_2_bid</th>\n",
       "      <th>V_2_bid</th>\n",
       "      <th>P_2_ask</th>\n",
       "      <th>...</th>\n",
       "      <th>V_bid_8_deriv</th>\n",
       "      <th>P_ask_9_deriv</th>\n",
       "      <th>P_bid_9_deriv</th>\n",
       "      <th>V_ask_9_deriv</th>\n",
       "      <th>V_bid_9_deriv</th>\n",
       "      <th>P_ask_10_deriv</th>\n",
       "      <th>P_bid_10_deriv</th>\n",
       "      <th>V_ask_10_deriv</th>\n",
       "      <th>V_bid_10_deriv</th>\n",
       "      <th>labels</th>\n",
       "    </tr>\n",
       "  </thead>\n",
       "  <tbody>\n",
       "    <tr>\n",
       "      <th>0</th>\n",
       "      <td>30</td>\n",
       "      <td>31</td>\n",
       "      <td>0.286</td>\n",
       "      <td>569.61</td>\n",
       "      <td>100</td>\n",
       "      <td>569.95</td>\n",
       "      <td>100</td>\n",
       "      <td>569.58</td>\n",
       "      <td>8</td>\n",
       "      <td>570.0</td>\n",
       "      <td>...</td>\n",
       "      <td>-3.333333</td>\n",
       "      <td>-0.016667</td>\n",
       "      <td>0.026667</td>\n",
       "      <td>-0.666667</td>\n",
       "      <td>-6.633333</td>\n",
       "      <td>-0.019000</td>\n",
       "      <td>0.028000</td>\n",
       "      <td>-6.333333</td>\n",
       "      <td>1.500000</td>\n",
       "      <td>1</td>\n",
       "    </tr>\n",
       "    <tr>\n",
       "      <th>1</th>\n",
       "      <td>31</td>\n",
       "      <td>32</td>\n",
       "      <td>0.308</td>\n",
       "      <td>569.61</td>\n",
       "      <td>100</td>\n",
       "      <td>569.95</td>\n",
       "      <td>100</td>\n",
       "      <td>569.58</td>\n",
       "      <td>8</td>\n",
       "      <td>570.0</td>\n",
       "      <td>...</td>\n",
       "      <td>-3.333333</td>\n",
       "      <td>-0.019667</td>\n",
       "      <td>0.026667</td>\n",
       "      <td>-3.333333</td>\n",
       "      <td>-6.633333</td>\n",
       "      <td>-0.016667</td>\n",
       "      <td>0.028000</td>\n",
       "      <td>-0.666667</td>\n",
       "      <td>1.500000</td>\n",
       "      <td>1</td>\n",
       "    </tr>\n",
       "    <tr>\n",
       "      <th>2</th>\n",
       "      <td>32</td>\n",
       "      <td>33</td>\n",
       "      <td>0.308</td>\n",
       "      <td>569.61</td>\n",
       "      <td>100</td>\n",
       "      <td>569.95</td>\n",
       "      <td>100</td>\n",
       "      <td>569.58</td>\n",
       "      <td>8</td>\n",
       "      <td>570.0</td>\n",
       "      <td>...</td>\n",
       "      <td>-3.333333</td>\n",
       "      <td>-0.005667</td>\n",
       "      <td>0.026667</td>\n",
       "      <td>3.000000</td>\n",
       "      <td>-6.633333</td>\n",
       "      <td>-0.010667</td>\n",
       "      <td>0.028000</td>\n",
       "      <td>-6.333333</td>\n",
       "      <td>1.500000</td>\n",
       "      <td>1</td>\n",
       "    </tr>\n",
       "    <tr>\n",
       "      <th>3</th>\n",
       "      <td>33</td>\n",
       "      <td>34</td>\n",
       "      <td>0.335</td>\n",
       "      <td>569.64</td>\n",
       "      <td>8</td>\n",
       "      <td>569.95</td>\n",
       "      <td>100</td>\n",
       "      <td>569.61</td>\n",
       "      <td>100</td>\n",
       "      <td>570.0</td>\n",
       "      <td>...</td>\n",
       "      <td>0.000000</td>\n",
       "      <td>-0.005667</td>\n",
       "      <td>0.040667</td>\n",
       "      <td>3.000000</td>\n",
       "      <td>-3.333333</td>\n",
       "      <td>-0.010667</td>\n",
       "      <td>0.026667</td>\n",
       "      <td>-6.333333</td>\n",
       "      <td>-6.633333</td>\n",
       "      <td>1</td>\n",
       "    </tr>\n",
       "    <tr>\n",
       "      <th>4</th>\n",
       "      <td>34</td>\n",
       "      <td>35</td>\n",
       "      <td>0.335</td>\n",
       "      <td>569.64</td>\n",
       "      <td>8</td>\n",
       "      <td>569.95</td>\n",
       "      <td>100</td>\n",
       "      <td>569.61</td>\n",
       "      <td>100</td>\n",
       "      <td>570.0</td>\n",
       "      <td>...</td>\n",
       "      <td>0.000000</td>\n",
       "      <td>-0.001667</td>\n",
       "      <td>0.025000</td>\n",
       "      <td>3.066667</td>\n",
       "      <td>-6.633333</td>\n",
       "      <td>0.000000</td>\n",
       "      <td>0.023333</td>\n",
       "      <td>0.000000</td>\n",
       "      <td>-3.166667</td>\n",
       "      <td>1</td>\n",
       "    </tr>\n",
       "  </tbody>\n",
       "</table>\n",
       "<p>5 rows × 130 columns</p>\n",
       "</div>"
      ],
      "text/plain": [
       "   train.csv  index   Time  P_1_bid  V_1_bid  P_1_ask  V_1_ask  P_2_bid  \\\n",
       "0         30     31  0.286   569.61      100   569.95      100   569.58   \n",
       "1         31     32  0.308   569.61      100   569.95      100   569.58   \n",
       "2         32     33  0.308   569.61      100   569.95      100   569.58   \n",
       "3         33     34  0.335   569.64        8   569.95      100   569.61   \n",
       "4         34     35  0.335   569.64        8   569.95      100   569.61   \n",
       "\n",
       "   V_2_bid  P_2_ask   ...    V_bid_8_deriv  P_ask_9_deriv  P_bid_9_deriv  \\\n",
       "0        8    570.0   ...        -3.333333      -0.016667       0.026667   \n",
       "1        8    570.0   ...        -3.333333      -0.019667       0.026667   \n",
       "2        8    570.0   ...        -3.333333      -0.005667       0.026667   \n",
       "3      100    570.0   ...         0.000000      -0.005667       0.040667   \n",
       "4      100    570.0   ...         0.000000      -0.001667       0.025000   \n",
       "\n",
       "   V_ask_9_deriv  V_bid_9_deriv  P_ask_10_deriv  P_bid_10_deriv  \\\n",
       "0      -0.666667      -6.633333       -0.019000        0.028000   \n",
       "1      -3.333333      -6.633333       -0.016667        0.028000   \n",
       "2       3.000000      -6.633333       -0.010667        0.028000   \n",
       "3       3.000000      -3.333333       -0.010667        0.026667   \n",
       "4       3.066667      -6.633333        0.000000        0.023333   \n",
       "\n",
       "   V_ask_10_deriv  V_bid_10_deriv  labels  \n",
       "0       -6.333333        1.500000       1  \n",
       "1       -0.666667        1.500000       1  \n",
       "2       -6.333333        1.500000       1  \n",
       "3       -6.333333       -6.633333       1  \n",
       "4        0.000000       -3.166667       1  \n",
       "\n",
       "[5 rows x 130 columns]"
      ]
     },
     "execution_count": 4,
     "metadata": {},
     "output_type": "execute_result"
    }
   ],
   "source": [
    "df_train.head()"
   ]
  },
  {
   "cell_type": "code",
   "execution_count": 5,
   "metadata": {
    "collapsed": false
   },
   "outputs": [
    {
     "data": {
      "text/plain": [
       "Index(['test.csv', 'index', 'Time', 'P_1_bid', 'V_1_bid', 'P_1_ask', 'V_1_ask',\n",
       "       'P_2_bid', 'V_2_bid', 'P_2_ask',\n",
       "       ...\n",
       "       'V_bid_8_deriv', 'P_ask_9_deriv', 'P_bid_9_deriv', 'V_ask_9_deriv',\n",
       "       'V_bid_9_deriv', 'P_ask_10_deriv', 'P_bid_10_deriv', 'V_ask_10_deriv',\n",
       "       'V_bid_10_deriv', 'labels'],\n",
       "      dtype='object', length=130)"
      ]
     },
     "execution_count": 5,
     "metadata": {},
     "output_type": "execute_result"
    }
   ],
   "source": [
    "df_test.columns"
   ]
  },
  {
   "cell_type": "code",
   "execution_count": 6,
   "metadata": {
    "collapsed": false
   },
   "outputs": [],
   "source": [
    "#X_test_new = df_test.drop(df_test.columns[['labels', 'train.csv', 'index']], axis = 1)\n",
    "x = df_test.drop(['labels', 'test.csv', 'index'], axis=1)"
   ]
  },
  {
   "cell_type": "code",
   "execution_count": 7,
   "metadata": {
    "collapsed": false
   },
   "outputs": [
    {
     "data": {
      "text/html": [
       "<div>\n",
       "<table border=\"1\" class=\"dataframe\">\n",
       "  <thead>\n",
       "    <tr style=\"text-align: right;\">\n",
       "      <th></th>\n",
       "      <th>Time</th>\n",
       "      <th>P_1_bid</th>\n",
       "      <th>V_1_bid</th>\n",
       "      <th>P_1_ask</th>\n",
       "      <th>V_1_ask</th>\n",
       "      <th>P_2_bid</th>\n",
       "      <th>V_2_bid</th>\n",
       "      <th>P_2_ask</th>\n",
       "      <th>V_2_ask</th>\n",
       "      <th>P_3_bid</th>\n",
       "      <th>...</th>\n",
       "      <th>V_ask_8_deriv</th>\n",
       "      <th>V_bid_8_deriv</th>\n",
       "      <th>P_ask_9_deriv</th>\n",
       "      <th>P_bid_9_deriv</th>\n",
       "      <th>V_ask_9_deriv</th>\n",
       "      <th>V_bid_9_deriv</th>\n",
       "      <th>P_ask_10_deriv</th>\n",
       "      <th>P_bid_10_deriv</th>\n",
       "      <th>V_ask_10_deriv</th>\n",
       "      <th>V_bid_10_deriv</th>\n",
       "    </tr>\n",
       "  </thead>\n",
       "  <tbody>\n",
       "    <tr>\n",
       "      <th>0</th>\n",
       "      <td>2332.252</td>\n",
       "      <td>570.69</td>\n",
       "      <td>100</td>\n",
       "      <td>570.85</td>\n",
       "      <td>100</td>\n",
       "      <td>570.68</td>\n",
       "      <td>100</td>\n",
       "      <td>570.88</td>\n",
       "      <td>750</td>\n",
       "      <td>570.67</td>\n",
       "      <td>...</td>\n",
       "      <td>136.2</td>\n",
       "      <td>6.366667</td>\n",
       "      <td>0.001333</td>\n",
       "      <td>0.001667</td>\n",
       "      <td>-136.0</td>\n",
       "      <td>-6.366667</td>\n",
       "      <td>0.001333</td>\n",
       "      <td>0.001333</td>\n",
       "      <td>-3.333333</td>\n",
       "      <td>-3.033333</td>\n",
       "    </tr>\n",
       "    <tr>\n",
       "      <th>1</th>\n",
       "      <td>2332.337</td>\n",
       "      <td>570.69</td>\n",
       "      <td>100</td>\n",
       "      <td>570.85</td>\n",
       "      <td>200</td>\n",
       "      <td>570.68</td>\n",
       "      <td>100</td>\n",
       "      <td>570.88</td>\n",
       "      <td>750</td>\n",
       "      <td>570.67</td>\n",
       "      <td>...</td>\n",
       "      <td>136.2</td>\n",
       "      <td>6.366667</td>\n",
       "      <td>0.001333</td>\n",
       "      <td>0.001667</td>\n",
       "      <td>-136.0</td>\n",
       "      <td>-6.366667</td>\n",
       "      <td>0.001333</td>\n",
       "      <td>0.001333</td>\n",
       "      <td>-3.333333</td>\n",
       "      <td>-3.033333</td>\n",
       "    </tr>\n",
       "    <tr>\n",
       "      <th>2</th>\n",
       "      <td>2332.510</td>\n",
       "      <td>570.69</td>\n",
       "      <td>100</td>\n",
       "      <td>570.85</td>\n",
       "      <td>200</td>\n",
       "      <td>570.67</td>\n",
       "      <td>20</td>\n",
       "      <td>570.88</td>\n",
       "      <td>750</td>\n",
       "      <td>570.64</td>\n",
       "      <td>...</td>\n",
       "      <td>136.2</td>\n",
       "      <td>-3.033333</td>\n",
       "      <td>0.001333</td>\n",
       "      <td>0.000000</td>\n",
       "      <td>-136.0</td>\n",
       "      <td>0.000000</td>\n",
       "      <td>0.001333</td>\n",
       "      <td>0.000000</td>\n",
       "      <td>-3.333333</td>\n",
       "      <td>0.000000</td>\n",
       "    </tr>\n",
       "    <tr>\n",
       "      <th>3</th>\n",
       "      <td>2332.650</td>\n",
       "      <td>570.67</td>\n",
       "      <td>20</td>\n",
       "      <td>570.85</td>\n",
       "      <td>200</td>\n",
       "      <td>570.64</td>\n",
       "      <td>100</td>\n",
       "      <td>570.88</td>\n",
       "      <td>750</td>\n",
       "      <td>570.52</td>\n",
       "      <td>...</td>\n",
       "      <td>136.2</td>\n",
       "      <td>-3.033333</td>\n",
       "      <td>0.001333</td>\n",
       "      <td>-0.000333</td>\n",
       "      <td>-136.0</td>\n",
       "      <td>6.366667</td>\n",
       "      <td>0.001333</td>\n",
       "      <td>-0.001000</td>\n",
       "      <td>-3.333333</td>\n",
       "      <td>-3.333333</td>\n",
       "    </tr>\n",
       "    <tr>\n",
       "      <th>4</th>\n",
       "      <td>2332.651</td>\n",
       "      <td>570.67</td>\n",
       "      <td>20</td>\n",
       "      <td>570.85</td>\n",
       "      <td>200</td>\n",
       "      <td>570.64</td>\n",
       "      <td>100</td>\n",
       "      <td>570.88</td>\n",
       "      <td>750</td>\n",
       "      <td>570.52</td>\n",
       "      <td>...</td>\n",
       "      <td>136.2</td>\n",
       "      <td>-3.033333</td>\n",
       "      <td>0.001000</td>\n",
       "      <td>-0.000333</td>\n",
       "      <td>-136.0</td>\n",
       "      <td>6.366667</td>\n",
       "      <td>0.001000</td>\n",
       "      <td>-0.001000</td>\n",
       "      <td>-5.166667</td>\n",
       "      <td>-3.333333</td>\n",
       "    </tr>\n",
       "  </tbody>\n",
       "</table>\n",
       "<p>5 rows × 127 columns</p>\n",
       "</div>"
      ],
      "text/plain": [
       "       Time  P_1_bid  V_1_bid  P_1_ask  V_1_ask  P_2_bid  V_2_bid  P_2_ask  \\\n",
       "0  2332.252   570.69      100   570.85      100   570.68      100   570.88   \n",
       "1  2332.337   570.69      100   570.85      200   570.68      100   570.88   \n",
       "2  2332.510   570.69      100   570.85      200   570.67       20   570.88   \n",
       "3  2332.650   570.67       20   570.85      200   570.64      100   570.88   \n",
       "4  2332.651   570.67       20   570.85      200   570.64      100   570.88   \n",
       "\n",
       "   V_2_ask  P_3_bid       ...        V_ask_8_deriv  V_bid_8_deriv  \\\n",
       "0      750   570.67       ...                136.2       6.366667   \n",
       "1      750   570.67       ...                136.2       6.366667   \n",
       "2      750   570.64       ...                136.2      -3.033333   \n",
       "3      750   570.52       ...                136.2      -3.033333   \n",
       "4      750   570.52       ...                136.2      -3.033333   \n",
       "\n",
       "   P_ask_9_deriv  P_bid_9_deriv  V_ask_9_deriv  V_bid_9_deriv  P_ask_10_deriv  \\\n",
       "0       0.001333       0.001667         -136.0      -6.366667        0.001333   \n",
       "1       0.001333       0.001667         -136.0      -6.366667        0.001333   \n",
       "2       0.001333       0.000000         -136.0       0.000000        0.001333   \n",
       "3       0.001333      -0.000333         -136.0       6.366667        0.001333   \n",
       "4       0.001000      -0.000333         -136.0       6.366667        0.001000   \n",
       "\n",
       "   P_bid_10_deriv  V_ask_10_deriv  V_bid_10_deriv  \n",
       "0        0.001333       -3.333333       -3.033333  \n",
       "1        0.001333       -3.333333       -3.033333  \n",
       "2        0.000000       -3.333333        0.000000  \n",
       "3       -0.001000       -3.333333       -3.333333  \n",
       "4       -0.001000       -5.166667       -3.333333  \n",
       "\n",
       "[5 rows x 127 columns]"
      ]
     },
     "execution_count": 7,
     "metadata": {},
     "output_type": "execute_result"
    }
   ],
   "source": [
    "x.head()"
   ]
  },
  {
   "cell_type": "code",
   "execution_count": 8,
   "metadata": {
    "collapsed": false
   },
   "outputs": [],
   "source": [
    "# Define test/training set\n",
    "X_test   =  np.array(df_test.drop(['labels', 'test.csv', 'index', 'Time'], axis = 1))\n",
    "Y_test   =  np.array(df_test[['labels']])[:,0]\n",
    "X_train  =  np.array(df_train.drop(['labels', 'train.csv', 'index', 'Time'], axis = 1))\n",
    "Y_train  =  np.array(df_train[['labels']])[:,0]"
   ]
  },
  {
   "cell_type": "code",
   "execution_count": 9,
   "metadata": {
    "collapsed": false
   },
   "outputs": [
    {
     "name": "stdout",
     "output_type": "stream",
     "text": [
      "Pos:0.38; Neg:0.39; Zero:0.23;\n"
     ]
    },
    {
     "data": {
      "text/plain": [
       "101660"
      ]
     },
     "execution_count": 9,
     "metadata": {},
     "output_type": "execute_result"
    }
   ],
   "source": [
    "label_percent(Y_train)\n",
    "Y_train.size"
   ]
  },
  {
   "cell_type": "code",
   "execution_count": 10,
   "metadata": {
    "collapsed": false
   },
   "outputs": [
    {
     "name": "stdout",
     "output_type": "stream",
     "text": [
      "Pos:0.34; Neg:0.40; Zero:0.26;\n"
     ]
    },
    {
     "data": {
      "text/plain": [
       "50830"
      ]
     },
     "execution_count": 10,
     "metadata": {},
     "output_type": "execute_result"
    }
   ],
   "source": [
    "label_percent(Y_test)\n",
    "Y_test.size"
   ]
  },
  {
   "cell_type": "code",
   "execution_count": 12,
   "metadata": {
    "collapsed": false
   },
   "outputs": [
    {
     "name": "stdout",
     "output_type": "stream",
     "text": [
      "             precision    recall  f1-score   support\n",
      "\n",
      "         -1       0.46      0.41      0.43     20200\n",
      "          0       0.39      0.00      0.00     13307\n",
      "          1       0.38      0.71      0.49     17323\n",
      "\n",
      "avg / total       0.41      0.40      0.34     50830\n",
      "\n"
     ]
    }
   ],
   "source": [
    "# Create the random forest object which will include all the parameters\n",
    "# for the fit\n",
    "forest = RandomForestClassifier(n_estimators = 250, max_depth=15)\n",
    "\n",
    "# Fit the training data to the Survived labels and create the decision trees\n",
    "forest = forest.fit(X_train, Y_train)\n",
    "\n",
    "# Take the same decision trees and run it on the test data\n",
    "output = forest.predict(X_test)\n",
    "\n",
    "classification_report1 = classification_report(y_true=Y_test, y_pred=output)\n",
    "print(classification_report1)"
   ]
  },
  {
   "cell_type": "code",
   "execution_count": 23,
   "metadata": {
    "collapsed": false
   },
   "outputs": [
    {
     "name": "stdout",
     "output_type": "stream",
     "text": [
      "[-1 -1 -1 ...,  1  1  1]\n"
     ]
    }
   ],
   "source": [
    "print(output)"
   ]
  },
  {
   "cell_type": "code",
   "execution_count": 24,
   "metadata": {
    "collapsed": false
   },
   "outputs": [
    {
     "name": "stdout",
     "output_type": "stream",
     "text": [
      "Pos:0.64; Neg:0.36; Zero:0.00;\n"
     ]
    }
   ],
   "source": [
    "label_percent(output)"
   ]
  },
  {
   "cell_type": "code",
   "execution_count": 13,
   "metadata": {
    "collapsed": false
   },
   "outputs": [
    {
     "data": {
      "text/plain": [
       "3"
      ]
     },
     "execution_count": 13,
     "metadata": {},
     "output_type": "execute_result"
    }
   ],
   "source": [
    "from sklearn.cross_validation import StratifiedShuffleSplit\n",
    "X = np.array([[1, 2], [3, 4], [1, 2], [3, 4]])\n",
    "y = np.array([0, 0, 1, 1])\n",
    "sss = StratifiedShuffleSplit(y, 3, test_size=0.5, random_state=0)\n",
    "len(sss)"
   ]
  },
  {
   "cell_type": "code",
   "execution_count": 14,
   "metadata": {
    "collapsed": false
   },
   "outputs": [
    {
     "data": {
      "text/plain": [
       "StratifiedShuffleSplit(labels=[0 0 1 1], n_iter=3, test_size=0.5, random_state=0)"
      ]
     },
     "execution_count": 14,
     "metadata": {},
     "output_type": "execute_result"
    }
   ],
   "source": [
    "sss"
   ]
  },
  {
   "cell_type": "code",
   "execution_count": 15,
   "metadata": {
    "collapsed": false
   },
   "outputs": [
    {
     "name": "stdout",
     "output_type": "stream",
     "text": [
      "StratifiedShuffleSplit(labels=[0 0 1 1], n_iter=3, test_size=0.5, random_state=0)\n"
     ]
    }
   ],
   "source": [
    "print(sss)"
   ]
  },
  {
   "cell_type": "code",
   "execution_count": null,
   "metadata": {
    "collapsed": true
   },
   "outputs": [],
   "source": []
  }
 ],
 "metadata": {
  "kernelspec": {
   "display_name": "Python 3",
   "language": "python",
   "name": "python3"
  },
  "language_info": {
   "codemirror_mode": {
    "name": "ipython",
    "version": 3
   },
   "file_extension": ".py",
   "mimetype": "text/x-python",
   "name": "python",
   "nbconvert_exporter": "python",
   "pygments_lexer": "ipython3",
   "version": "3.5.1"
  }
 },
 "nbformat": 4,
 "nbformat_minor": 0
}
