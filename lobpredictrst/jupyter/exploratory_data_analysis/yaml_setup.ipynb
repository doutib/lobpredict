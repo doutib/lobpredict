{
 "cells": [
  {
   "cell_type": "code",
   "execution_count": 2,
   "metadata": {
    "collapsed": false
   },
   "outputs": [],
   "source": [
    "import yaml"
   ]
  },
  {
   "cell_type": "code",
   "execution_count": 9,
   "metadata": {
    "collapsed": false
   },
   "outputs": [],
   "source": [
    "import yaml\n",
    "def read_model_yaml(inp_yaml):    \n",
    "    # with open(\"../model/spec/SS/SS_RF_1.yaml\") as stream:    \n",
    "    with open(inp_yaml) as stream:    \n",
    "        data = yaml.load(stream)\n",
    "        parameters_dict = {\n",
    "        \"author\"                   : data[\"author\"]\n",
    "        , \"train_data_source\"      : data[\"train_data_source\"]\n",
    "        , \"test_data_source\"       : data[\"test_data_source\"]\n",
    "        , \"holdout_data_source\"    : data[\"holdout_data_source\"]\n",
    "        , \"label_colname\"          : data[\"label_colname\"]\n",
    "        , \"simulations\"            : data[\"simulations\"]\n",
    "        , \"predict\"                : data[\"predict\"]\n",
    "        , \"model_type\"             : data[\"model_type\"]\n",
    "        , \"parameters\"             : data[data[\"model_type\"]]\n",
    "        }\n",
    "    return parameters_dict"
   ]
  },
  {
   "cell_type": "code",
   "execution_count": 10,
   "metadata": {
    "collapsed": true
   },
   "outputs": [],
   "source": [
    "a = read_model_yaml(\"../model/spec/SS/SS_RF_1.yaml\")"
   ]
  },
  {
   "cell_type": "code",
   "execution_count": 11,
   "metadata": {
    "collapsed": false
   },
   "outputs": [
    {
     "data": {
      "text/plain": [
       "dict_keys(['predict', 'train_data_source', 'author', 'simulations', 'test_data_source', 'model_type', 'holdout_data_source', 'parameters', 'label_colname'])"
      ]
     },
     "execution_count": 11,
     "metadata": {},
     "output_type": "execute_result"
    }
   ],
   "source": [
    "a.keys()"
   ]
  },
  {
   "cell_type": "code",
   "execution_count": 17,
   "metadata": {
    "collapsed": false
   },
   "outputs": [
    {
     "data": {
      "text/plain": [
       "{'criterion': 'gini',\n",
       " 'max_depth': 2,\n",
       " 'max_features': 'auto',\n",
       " 'n_estimators': 10,\n",
       " 'n_jobs': 1}"
      ]
     },
     "execution_count": 17,
     "metadata": {},
     "output_type": "execute_result"
    }
   ],
   "source": [
    "a[\"parameters\"][\"criterion\"]"
   ]
  },
  {
   "cell_type": "code",
   "execution_count": 19,
   "metadata": {
    "collapsed": false
   },
   "outputs": [
    {
     "data": {
      "text/plain": [
       "bool"
      ]
     },
     "execution_count": 19,
     "metadata": {},
     "output_type": "execute_result"
    }
   ],
   "source": [
    "type(a[\"simulations\"])"
   ]
  },
  {
   "cell_type": "code",
   "execution_count": null,
   "metadata": {
    "collapsed": true
   },
   "outputs": [],
   "source": []
  }
 ],
 "metadata": {
  "kernelspec": {
   "display_name": "Python 3",
   "language": "python",
   "name": "python3"
  },
  "language_info": {
   "codemirror_mode": {
    "name": "ipython",
    "version": 3
   },
   "file_extension": ".py",
   "mimetype": "text/x-python",
   "name": "python",
   "nbconvert_exporter": "python",
   "pygments_lexer": "ipython3",
   "version": "3.5.1"
  }
 },
 "nbformat": 4,
 "nbformat_minor": 0
}
