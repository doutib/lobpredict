{
 "cells": [
  {
   "cell_type": "code",
   "execution_count": 3,
   "metadata": {
    "collapsed": false
   },
   "outputs": [],
   "source": [
    "# Direct Python to plot all figures inline (i.e., not in a separate window)\n",
    "%matplotlib inline\n",
    "\n",
    "# Load libraries\n",
    "import numpy as np\n",
    "import pandas as pd\n",
    "import matplotlib.pyplot as plt\n",
    "from scipy import stats\n",
    "\n",
    "# Division of two integers in Python 2.7 does not return a floating point result. The default is to round down \n",
    "# to the nearest integer. The following piece of code changes the default.\n",
    "from __future__ import division"
   ]
  },
  {
   "cell_type": "code",
   "execution_count": 115,
   "metadata": {
    "collapsed": true
   },
   "outputs": [],
   "source": [
    "# Directory where the csv data file is located\n",
    "workdir =  '../../data/raw_data/'\n",
    "data_message = pd.read_csv('../../data/raw_data/AAPL_05222012_0930_1300_message.tar.gz',compression='gzip')\n",
    "data_lob = pd.read_csv('../../data/raw_data/AAPL_05222012_0930_1300_LOB_2.tar.gz',compression='gzip')"
   ]
  },
  {
   "cell_type": "code",
   "execution_count": 116,
   "metadata": {
    "collapsed": true
   },
   "outputs": [],
   "source": [
    "#drop redundant time\n",
    "col_names=data_lob.columns\n",
    "delete_list=[i for i in col_names if 'UPDATE_TIME' in i]\n",
    "for i in delete_list:\n",
    "    data_lob=data_lob.drop(i,1)"
   ]
  },
  {
   "cell_type": "code",
   "execution_count": 117,
   "metadata": {
    "collapsed": true
   },
   "outputs": [],
   "source": [
    "#functions for renaming\n",
    "def rename(txt):\n",
    "    txt=txt[16:].split('..')[0]\n",
    "    index=0\n",
    "    ask_bid=''\n",
    "    p_v=''\n",
    "    if txt[-2].isdigit():\n",
    "        index=txt[-2:]\n",
    "    else:\n",
    "        index=txt[-1]\n",
    "    if txt[:3]==\"BID\":\n",
    "        ask_bid='bid'\n",
    "    else:\n",
    "        ask_bid='ask'\n",
    "    if txt[4:9]==\"PRICE\":\n",
    "        p_v='P'\n",
    "    else:\n",
    "        p_v='V'\n",
    "    return('_'.join([p_v,index,ask_bid]))"
   ]
  },
  {
   "cell_type": "code",
   "execution_count": 118,
   "metadata": {
    "collapsed": true
   },
   "outputs": [],
   "source": [
    "#rename columns\n",
    "col_names=data_lob.columns\n",
    "new_col_names=[]\n",
    "new_col_names.append('index')\n",
    "new_col_names.append('Time')\n",
    "for i in col_names[2:]:\n",
    "    new_col_names.append(rename(i))\n",
    "len(new_col_names)\n",
    "data_lob.columns=new_col_names"
   ]
  },
  {
   "cell_type": "code",
   "execution_count": 119,
   "metadata": {
    "collapsed": true
   },
   "outputs": [],
   "source": [
    "#feature: bid-ask spreads and mid price\n",
    "for i in list(range(1, 11)):\n",
    "    bid_ask_col_name='_'.join(['spreads',str(i)])\n",
    "    p_i_ask='_'.join(['P',str(i),'ask'])\n",
    "    p_i_bid='_'.join(['P',str(i),'bid'])\n",
    "    data_lob[bid_ask_col_name]=data_lob[p_i_ask]-data_lob[p_i_bid]\n",
    "    \n",
    "    mid_price_col_name = '_'.join(['mid_price',str(i)])\n",
    "    data_lob[mid_price_col_name]=(data_lob[p_i_ask]+data_lob[p_i_bid])/2"
   ]
  },
  {
   "cell_type": "code",
   "execution_count": 228,
   "metadata": {
    "collapsed": false
   },
   "outputs": [
    {
     "data": {
      "text/html": [
       "<div>\n",
       "<table border=\"1\" class=\"dataframe\">\n",
       "  <thead>\n",
       "    <tr style=\"text-align: right;\">\n",
       "      <th></th>\n",
       "      <th>index</th>\n",
       "      <th>Time</th>\n",
       "      <th>P_1_bid</th>\n",
       "      <th>V_1_bid</th>\n",
       "      <th>P_1_ask</th>\n",
       "      <th>V_1_ask</th>\n",
       "      <th>P_2_bid</th>\n",
       "      <th>V_2_bid</th>\n",
       "      <th>P_2_ask</th>\n",
       "      <th>V_2_ask</th>\n",
       "      <th>...</th>\n",
       "      <th>spreads_6</th>\n",
       "      <th>mid_price_6</th>\n",
       "      <th>spreads_7</th>\n",
       "      <th>mid_price_7</th>\n",
       "      <th>spreads_8</th>\n",
       "      <th>mid_price_8</th>\n",
       "      <th>spreads_9</th>\n",
       "      <th>mid_price_9</th>\n",
       "      <th>spreads_10</th>\n",
       "      <th>mid_price_10</th>\n",
       "    </tr>\n",
       "  </thead>\n",
       "  <tbody>\n",
       "    <tr>\n",
       "      <th>0</th>\n",
       "      <td>1</td>\n",
       "      <td>2012/05/22 09:30:00.000</td>\n",
       "      <td>569.02</td>\n",
       "      <td>40</td>\n",
       "      <td>570.0</td>\n",
       "      <td>400</td>\n",
       "      <td>568.80</td>\n",
       "      <td>100</td>\n",
       "      <td>570.01</td>\n",
       "      <td>100</td>\n",
       "      <td>...</td>\n",
       "      <td>2.4</td>\n",
       "      <td>569.20</td>\n",
       "      <td>2.80</td>\n",
       "      <td>569.270</td>\n",
       "      <td>3.64</td>\n",
       "      <td>569.170</td>\n",
       "      <td>3.70</td>\n",
       "      <td>569.150</td>\n",
       "      <td>4.08</td>\n",
       "      <td>569.200</td>\n",
       "    </tr>\n",
       "    <tr>\n",
       "      <th>1</th>\n",
       "      <td>2</td>\n",
       "      <td>2012/05/22 09:30:00.003</td>\n",
       "      <td>569.02</td>\n",
       "      <td>40</td>\n",
       "      <td>570.0</td>\n",
       "      <td>400</td>\n",
       "      <td>568.80</td>\n",
       "      <td>100</td>\n",
       "      <td>570.01</td>\n",
       "      <td>100</td>\n",
       "      <td>...</td>\n",
       "      <td>2.4</td>\n",
       "      <td>569.20</td>\n",
       "      <td>2.68</td>\n",
       "      <td>569.210</td>\n",
       "      <td>3.32</td>\n",
       "      <td>569.010</td>\n",
       "      <td>3.69</td>\n",
       "      <td>569.145</td>\n",
       "      <td>3.84</td>\n",
       "      <td>569.080</td>\n",
       "    </tr>\n",
       "    <tr>\n",
       "      <th>2</th>\n",
       "      <td>3</td>\n",
       "      <td>2012/05/22 09:30:00.003</td>\n",
       "      <td>569.02</td>\n",
       "      <td>40</td>\n",
       "      <td>570.0</td>\n",
       "      <td>400</td>\n",
       "      <td>568.80</td>\n",
       "      <td>100</td>\n",
       "      <td>570.01</td>\n",
       "      <td>100</td>\n",
       "      <td>...</td>\n",
       "      <td>2.4</td>\n",
       "      <td>569.20</td>\n",
       "      <td>2.67</td>\n",
       "      <td>569.205</td>\n",
       "      <td>3.20</td>\n",
       "      <td>568.950</td>\n",
       "      <td>3.37</td>\n",
       "      <td>568.985</td>\n",
       "      <td>3.83</td>\n",
       "      <td>569.075</td>\n",
       "    </tr>\n",
       "    <tr>\n",
       "      <th>3</th>\n",
       "      <td>4</td>\n",
       "      <td>2012/05/22 09:30:00.003</td>\n",
       "      <td>569.03</td>\n",
       "      <td>8</td>\n",
       "      <td>570.0</td>\n",
       "      <td>400</td>\n",
       "      <td>569.02</td>\n",
       "      <td>40</td>\n",
       "      <td>570.01</td>\n",
       "      <td>100</td>\n",
       "      <td>...</td>\n",
       "      <td>2.3</td>\n",
       "      <td>569.25</td>\n",
       "      <td>2.54</td>\n",
       "      <td>569.270</td>\n",
       "      <td>2.68</td>\n",
       "      <td>569.210</td>\n",
       "      <td>3.32</td>\n",
       "      <td>569.010</td>\n",
       "      <td>3.69</td>\n",
       "      <td>569.145</td>\n",
       "    </tr>\n",
       "    <tr>\n",
       "      <th>4</th>\n",
       "      <td>5</td>\n",
       "      <td>2012/05/22 09:30:00.003</td>\n",
       "      <td>569.03</td>\n",
       "      <td>8</td>\n",
       "      <td>570.0</td>\n",
       "      <td>400</td>\n",
       "      <td>569.02</td>\n",
       "      <td>40</td>\n",
       "      <td>570.01</td>\n",
       "      <td>100</td>\n",
       "      <td>...</td>\n",
       "      <td>2.3</td>\n",
       "      <td>569.25</td>\n",
       "      <td>2.52</td>\n",
       "      <td>569.260</td>\n",
       "      <td>2.67</td>\n",
       "      <td>569.205</td>\n",
       "      <td>3.20</td>\n",
       "      <td>568.950</td>\n",
       "      <td>3.37</td>\n",
       "      <td>568.985</td>\n",
       "    </tr>\n",
       "  </tbody>\n",
       "</table>\n",
       "<p>5 rows × 62 columns</p>\n",
       "</div>"
      ],
      "text/plain": [
       "   index                     Time  P_1_bid  V_1_bid  P_1_ask  V_1_ask  \\\n",
       "0      1  2012/05/22 09:30:00.000   569.02       40    570.0      400   \n",
       "1      2  2012/05/22 09:30:00.003   569.02       40    570.0      400   \n",
       "2      3  2012/05/22 09:30:00.003   569.02       40    570.0      400   \n",
       "3      4  2012/05/22 09:30:00.003   569.03        8    570.0      400   \n",
       "4      5  2012/05/22 09:30:00.003   569.03        8    570.0      400   \n",
       "\n",
       "   P_2_bid  V_2_bid  P_2_ask  V_2_ask      ...       spreads_6  mid_price_6  \\\n",
       "0   568.80      100   570.01      100      ...             2.4       569.20   \n",
       "1   568.80      100   570.01      100      ...             2.4       569.20   \n",
       "2   568.80      100   570.01      100      ...             2.4       569.20   \n",
       "3   569.02       40   570.01      100      ...             2.3       569.25   \n",
       "4   569.02       40   570.01      100      ...             2.3       569.25   \n",
       "\n",
       "   spreads_7  mid_price_7  spreads_8  mid_price_8  spreads_9  mid_price_9  \\\n",
       "0       2.80      569.270       3.64      569.170       3.70      569.150   \n",
       "1       2.68      569.210       3.32      569.010       3.69      569.145   \n",
       "2       2.67      569.205       3.20      568.950       3.37      568.985   \n",
       "3       2.54      569.270       2.68      569.210       3.32      569.010   \n",
       "4       2.52      569.260       2.67      569.205       3.20      568.950   \n",
       "\n",
       "   spreads_10  mid_price_10  \n",
       "0        4.08       569.200  \n",
       "1        3.84       569.080  \n",
       "2        3.83       569.075  \n",
       "3        3.69       569.145  \n",
       "4        3.37       568.985  \n",
       "\n",
       "[5 rows x 62 columns]"
      ]
     },
     "execution_count": 228,
     "metadata": {},
     "output_type": "execute_result"
    }
   ],
   "source": [
    "data_lob.head()"
   ]
  },
  {
   "cell_type": "markdown",
   "metadata": {},
   "source": [
    "# Analyze $\\Delta t$ and generate good graphs!"
   ]
  },
  {
   "cell_type": "code",
   "execution_count": 184,
   "metadata": {
    "collapsed": false
   },
   "outputs": [
    {
     "name": "stdout",
     "output_type": "stream",
     "text": [
      "1\n",
      "6\n",
      "11\n",
      "16\n",
      "21\n",
      "26\n",
      "31\n",
      "36\n",
      "41\n",
      "46\n",
      "51\n",
      "56\n",
      "61\n",
      "66\n",
      "71\n",
      "76\n",
      "81\n",
      "86\n",
      "91\n",
      "96\n",
      "1\n",
      "101\n",
      "201\n",
      "301\n",
      "401\n",
      "501\n",
      "601\n",
      "701\n",
      "801\n",
      "901\n",
      "1001\n",
      "1101\n",
      "1201\n",
      "1301\n",
      "1401\n",
      "1501\n",
      "1601\n",
      "1701\n",
      "1801\n",
      "1901\n"
     ]
    }
   ],
   "source": [
    "#compute frequency of midprice stationary\n",
    "diff=data_lob['mid_price_1']\n",
    "bid = data_lob['P_1_bid']\n",
    "ask = data_lob['P_1_ask']\n",
    "\n",
    "# print('t', 'up', 'stationary','down', 'up', 'stationary','down')\n",
    "\n",
    "upper_step = 100\n",
    "for t in list(range(1, upper_step, 5)):\n",
    "    print(t)\n",
    "    # label from mid-price\n",
    "    delta_midprice = np.array(diff[t:]) - np.array(diff[:(-1*t)])\n",
    "    dummy_up = delta_midprice > 0\n",
    "    dummy_down = delta_midprice < 0\n",
    "    dummy_stationary = delta_midprice == 0\n",
    "    freq_stationary = sum(dummy_stationary) / len(dummy_stationary)\n",
    "    freq_up   = sum(dummy_up) / len(dummy_up)\n",
    "    freq_down = sum(dummy_down) / len(dummy_down)\n",
    "    \n",
    "    if t == 1:\n",
    "        delta_t = np.array([t,])\n",
    "        up_MP = np.array([freq_up,])\n",
    "        stationary_MP = np.array([freq_stationary,])\n",
    "        down_MP = np.array([freq_down,])\n",
    "    else:\n",
    "        delta_t = np.append(delta_t, t)\n",
    "        up_MP = np.append(up_MP, freq_up)\n",
    "        stationary_MP = np.append(stationary_MP, freq_stationary)\n",
    "        down_MP = np.append(down_MP, freq_down)\n",
    "\n",
    "df_MP = pd.DataFrame({'delta_t' : delta_t,\n",
    "                              '1' : up_MP  ,\n",
    "                              '0' : stationary_MP ,\n",
    "                              '-1': down_MP})\n",
    "\n",
    "\n",
    "upper_step_sc = 2000\n",
    "for t in range(1, upper_step_sc, 100):\n",
    "    print(t)\n",
    "    # label from spread crossing\n",
    "    up            = np.array(bid[t:]) - np.array(ask[:(-1*t)]) > 0\n",
    "    down          = np.array(ask[t:]) - np.array(bid[:(-1*t)]) < 0\n",
    "    stationary    = np.logical_not(np.logical_or(up, down))\n",
    "    freq_stationary_crossing = sum(stationary) / len(stationary)\n",
    "    freq_up_crossing = sum(up) / len(up)\n",
    "    freq_down_crossing = sum(down) / len(down)\n",
    "\n",
    "    if t == 1:\n",
    "        delta_t = np.array([t,])\n",
    "        up_SC = np.array([freq_up_crossing,])\n",
    "        stationary_SC = np.array([freq_stationary_crossing,])\n",
    "        down_SC = np.array([freq_down_crossing,])\n",
    "    else:\n",
    "        delta_t = np.append(delta_t, t)\n",
    "        up_SC = np.append(up_SC, freq_up_crossing)\n",
    "        stationary_SC = np.append(stationary_SC, freq_stationary_crossing)\n",
    "        down_SC = np.append(down_SC, freq_down_crossing)\n",
    "\n",
    "df_SC = pd.DataFrame({'delta_t' : delta_t,\n",
    "                              '1' : up_SC  ,\n",
    "                              '0' : stationary_SC ,\n",
    "                              '-1': down_SC})"
   ]
  },
  {
   "cell_type": "code",
   "execution_count": 188,
   "metadata": {
    "collapsed": false
   },
   "outputs": [
    {
     "name": "stdout",
     "output_type": "stream",
     "text": [
      "          -1         0         1  delta_t\n",
      "0   0.085643  0.829787  0.084570        1\n",
      "1   0.259719  0.497485  0.242795        6\n",
      "2   0.344446  0.335358  0.320196       11\n",
      "3   0.394626  0.241642  0.363732       16\n",
      "4   0.429767  0.176322  0.393910       21\n",
      "5   0.451250  0.135645  0.413105       26\n",
      "6   0.466886  0.105792  0.427321       31\n",
      "7   0.477896  0.084951  0.437152       36\n",
      "8   0.486294  0.068676  0.445029       41\n",
      "9   0.490165  0.058564  0.451271       46\n",
      "10  0.494327  0.049783  0.455890       51\n",
      "11  0.496559  0.044123  0.459318       56\n",
      "12  0.499387  0.037765  0.462849       61\n",
      "13  0.500846  0.034154  0.464999       66\n",
      "14  0.502598  0.029919  0.467484       71\n",
      "15  0.503516  0.027625  0.468859       76\n",
      "16  0.504360  0.025827  0.469813       81\n",
      "17  0.505426  0.024421  0.470154       86\n",
      "18  0.506317  0.022274  0.471409       91\n",
      "19  0.505949  0.021890  0.472161       96\n",
      "          -1         0         1  delta_t\n",
      "0   0.000000  1.000000  0.000000        1\n",
      "1   0.056117  0.886828  0.057055      101\n",
      "2   0.135287  0.734372  0.130342      201\n",
      "3   0.190970  0.627748  0.181282      301\n",
      "4   0.226965  0.565064  0.207971      401\n",
      "5   0.256427  0.515567  0.228005      501\n",
      "6   0.278858  0.477746  0.243396      601\n",
      "7   0.293022  0.448243  0.258736      701\n",
      "8   0.309375  0.418267  0.272358      801\n",
      "9   0.324593  0.393590  0.281817      901\n",
      "10  0.339519  0.370625  0.289856     1001\n",
      "11  0.349182  0.349417  0.301401     1101\n",
      "12  0.357101  0.337347  0.305552     1201\n",
      "13  0.365218  0.328326  0.306456     1301\n",
      "14  0.371682  0.318415  0.309902     1401\n",
      "15  0.375732  0.310555  0.313713     1501\n",
      "16  0.381198  0.303665  0.315137     1601\n",
      "17  0.388945  0.290526  0.320529     1701\n",
      "18  0.396105  0.277660  0.326235     1801\n",
      "19  0.404541  0.268780  0.326678     1901\n"
     ]
    }
   ],
   "source": [
    "print(df_MP)\n",
    "print(df_SC)"
   ]
  },
  {
   "cell_type": "code",
   "execution_count": 231,
   "metadata": {
    "collapsed": false
   },
   "outputs": [
    {
     "data": {
      "image/png": "[encoded data removed]",
      "text/plain": [
       "<matplotlib.figure.Figure at 0x10dee2470>"
      ]
     },
     "metadata": {},
     "output_type": "display_data"
    },
    {
     "data": {
      "image/png": "[encoded data removed]",
      "text/plain": [
       "<matplotlib.figure.Figure at 0x10d5bb630>"
      ]
     },
     "metadata": {},
     "output_type": "display_data"
    }
   ],
   "source": [
    "fig_MP = plt.figure()\n",
    "plt.plot(df_MP['delta_t'], df_MP['1'], 'r--', \n",
    "         df_MP['delta_t'], df_MP['0'], 'b--',\n",
    "         df_MP['delta_t'], df_MP['-1'], 'g--')\n",
    "plt.legend(['Up', 'Stationary', 'Down'])\n",
    "plt.xlabel('delta t')\n",
    "plt.ylabel('Frequency')\n",
    "plt.title('Proportion of labels: Midprice')\n",
    "\n",
    "plt.show()\n",
    "\n",
    "fig_SC = plt.figure()\n",
    "plt.plot(df_SC['delta_t'], df_SC['1'], 'r--', \n",
    "         df_SC['delta_t'], df_SC['0'], 'b--',\n",
    "         df_SC['delta_t'], df_SC['-1'], 'g--')\n",
    "plt.legend(['Up', 'Stationary', 'Down'])\n",
    "plt.xlabel('delta t')\n",
    "plt.ylabel('Frequency')\n",
    "plt.title('Proportion of labels: Bid-ask spread crossing')\n",
    "plt.show()\n",
    "\n",
    "fig_MP.savefig('../report/delta_t_MP.png')\n",
    "fig_SC.savefig('../report/delta_t_SC.png')"
   ]
  },
  {
   "cell_type": "markdown",
   "metadata": {},
   "source": [
    "# A test for profit calculator"
   ]
  },
  {
   "cell_type": "code",
   "execution_count": 21,
   "metadata": {
    "collapsed": false
   },
   "outputs": [],
   "source": [
    "##### Old version #####\n",
    "\n",
    "def profit_calculator(data, delta_t = 30, simple = True):\n",
    "    \"\"\"Calculate the profit of trading strategy based on precisely the prediction of the model\n",
    "        Parameters\n",
    "        ----------\n",
    "        data    : a data frame with \"predicted\" \"P_1_bid\" \"P_1_ask\"\n",
    "        delta_t : time gap between \n",
    "        simple  : a dummy, True, means we make transection decisions only every delta_t period. False, means we track the current \n",
    "                  hand every period, only if we don't have anything at hand, we make transactions\n",
    "\n",
    "        Returns\n",
    "        -------\n",
    "        profit        : a numeric, the net profit at the end\n",
    "        profit_series : a np.array, time series tracking net profit at each point of time\n",
    "        \n",
    "        \"\"\"    \n",
    "    if simple == True:\n",
    "        data_effective = data.loc[np.arange(len(data)) % delta_t == 0]\n",
    "        bid = data_effective['P_1_bid']\n",
    "        ask = data_effective['P_1_ask']\n",
    "        trade_decision = data_effective['predicted'][:-1]\n",
    "        buy_profit = np.array(bid[1:]) - np.array(ask[:-1])\n",
    "        profit = sum(trade_decision * buy_profit)\n",
    "        return profit\n",
    "    else:\n",
    "        \n",
    "#         print(data_effective)\n",
    "#         print(data['P_1_bid'])\n",
    "#         print(data['P_1_ask'])\n",
    "        \n",
    "#         print(data['P_1_bid'][delta_t:])\n",
    "#         print(data['P_1_ask'][:(-1 * delta_t)])\n",
    "        \n",
    "#         print(np.array(data['P_1_bid'][delta_t:]))\n",
    "#         print(np.array(data['P_1_ask'][:(-1 * delta_t)]))\n",
    "        \n",
    "        buy_profit = np.array(data['P_1_bid'][delta_t:]) - np.array(data['P_1_ask'][:(-1 * delta_t)])\n",
    "        trade_decision_draft = data['predicted'][:(-1 * delta_t)]\n",
    "        T = len(buy_profit)\n",
    "        \n",
    "        #print(T)\n",
    "        #print(buy_profit)\n",
    "        #print(trade_decision_draft)\n",
    "        \n",
    "        current_state = [0] * T\n",
    "        trade_decision = [0] * T\n",
    "        #print(current_state[T])\n",
    "        for i in range(T):\n",
    "            if current_state[i] == 1:\n",
    "                trade_decision[i] = 0\n",
    "            else:\n",
    "                trade_decision[i] = trade_decision_draft[i]\n",
    "                if i < T-1:\n",
    "                    #print(i)\n",
    "                    current_state[i+1] = int(sum(trade_decision[max(0, i - delta_t):i]) != 0)\n",
    "        profit = sum(trade_decision * buy_profit)\n",
    "        return profit"
   ]
  },
  {
   "cell_type": "code",
   "execution_count": 29,
   "metadata": {
    "collapsed": false
   },
   "outputs": [
    {
     "name": "stdout",
     "output_type": "stream",
     "text": [
      "   P_1_ask  P_1_bid  predicted\n",
      "0      1.0      1.0          0\n",
      "1      2.0      2.0          1\n",
      "2      3.0      3.0         -1\n",
      "3      4.0      5.0          1\n",
      "4      1.0      1.0          1\n",
      "5      2.0      2.0          1\n",
      "6      3.0      3.0         -1\n",
      "7      4.0      5.0          1\n"
     ]
    }
   ],
   "source": [
    "d = {'P_1_bid' : pd.Series([1., 2., 3., 5., 1., 2., 3., 5.]),\n",
    "     'P_1_ask' : pd.Series([1., 2., 3., 4., 1., 2., 3., 4.]),\n",
    "     'predicted' : pd.Series([0, 1, -1, 1, 1, 1, -1, 1])} \n",
    "df = pd.DataFrame(d)\n",
    "print(df)"
   ]
  },
  {
   "cell_type": "code",
   "execution_count": 75,
   "metadata": {
    "collapsed": false
   },
   "outputs": [
    {
     "name": "stdout",
     "output_type": "stream",
     "text": [
      "-2.0\n",
      "[0, 0, 0, 0, 0] [0, 0, 0, 0, 0] 0 [] 0\n",
      "[0, 0, 1, 0, 0] [0, 1, 0, 0, 0] 1 [0] 0\n",
      "[0, 0, 1, 1, 0] [0, 1, 0, 0, 0] 2 [0 1] 1\n",
      "[0, 0, 1, 1, 1] [0, 1, 0, 0, 0] 3 [1 0] 1\n",
      "[0, 0, 1, 1, 1] [0, 1, 0, 0, 0] 4 [0 0] 0\n",
      "-1.0\n"
     ]
    }
   ],
   "source": [
    "print(profit_calculator(df, delta_t = 1, simple = True))\n",
    "print(profit_calculator(df, delta_t = 3, simple = False))"
   ]
  },
  {
   "cell_type": "code",
   "execution_count": 29,
   "metadata": {
    "collapsed": false
   },
   "outputs": [
    {
     "data": {
      "text/html": [
       "<div>\n",
       "<table border=\"1\" class=\"dataframe\">\n",
       "  <thead>\n",
       "    <tr style=\"text-align: right;\">\n",
       "      <th></th>\n",
       "      <th>P_1_ask</th>\n",
       "      <th>P_1_bid</th>\n",
       "      <th>predicted</th>\n",
       "    </tr>\n",
       "  </thead>\n",
       "  <tbody>\n",
       "    <tr>\n",
       "      <th>a</th>\n",
       "      <td>1.0</td>\n",
       "      <td>1.0</td>\n",
       "      <td>0</td>\n",
       "    </tr>\n",
       "    <tr>\n",
       "      <th>b</th>\n",
       "      <td>2.0</td>\n",
       "      <td>2.0</td>\n",
       "      <td>1</td>\n",
       "    </tr>\n",
       "    <tr>\n",
       "      <th>c</th>\n",
       "      <td>3.0</td>\n",
       "      <td>3.0</td>\n",
       "      <td>-1</td>\n",
       "    </tr>\n",
       "  </tbody>\n",
       "</table>\n",
       "</div>"
      ],
      "text/plain": [
       "   P_1_ask  P_1_bid  predicted\n",
       "a      1.0      1.0          0\n",
       "b      2.0      2.0          1\n",
       "c      3.0      3.0         -1"
      ]
     },
     "execution_count": 29,
     "metadata": {},
     "output_type": "execute_result"
    }
   ],
   "source": [
    "df.iloc[:-1,:]"
   ]
  },
  {
   "cell_type": "code",
   "execution_count": 73,
   "metadata": {
    "collapsed": false
   },
   "outputs": [],
   "source": [
    "##### New version #####\n",
    "\n",
    "def profit_calculator(data, delta_t = 30, simple = False):\n",
    "    \"\"\"Calculate the profit of trading strategy based on precisely the prediction of the model\n",
    "        Parameters\n",
    "        ----------\n",
    "        data    : a data frame with \"predicted\" \"P_1_bid\" \"P_1_ask\"\n",
    "        delta_t : time gap between \n",
    "        simple  : a dummy, True, means we make transection decisions only every delta_t period. False, means we track the current \n",
    "                  hand every period, only if we don't have anything at hand, we make new transactions\n",
    "\n",
    "        Returns\n",
    "        -------\n",
    "        profit        : a numeric, the net profit at the end\n",
    "        \n",
    "        \"\"\"    \n",
    "    if simple == True:\n",
    "        data_effective = data.loc[np.arange(len(data)) % delta_t == 0]\n",
    "        bid            = data_effective['P_1_bid']\n",
    "        ask            = data_effective['P_1_ask']\n",
    "        trade_decision = data_effective['predicted'][:-1]\n",
    "        buy_profit     = np.array(bid[1:]) - np.array(ask[:-1])\n",
    "        sell_profit    = np.array(bid[:-1]) - np.array(ask[1:])\n",
    "        profit         = sum((np.array(trade_decision) > 0) * buy_profit + (np.array(trade_decision) < 0) * sell_profit)\n",
    "        return profit\n",
    "    else:\n",
    "        buy_profit           = np.array(data['P_1_bid'][delta_t:]) - np.array(data['P_1_ask'][:(-1 * delta_t)])\n",
    "        sell_profit           = np.array(data['P_1_bid'][:(-1 * delta_t)]) - np.array(data['P_1_ask'][delta_t:])\n",
    "        trade_decision_draft = data['predicted'][:(-1 * delta_t)]\n",
    "        T                    = len(buy_profit)\n",
    "        current_state        = [0] * T\n",
    "        trade_decision       = [0] * T\n",
    "        profit               = 0\n",
    "        for i in range(T):\n",
    "            if current_state[i] == 1:\n",
    "                trade_decision[i] = 0\n",
    "            else:\n",
    "                trade_decision[i] = trade_decision_draft[i]\n",
    "                    \n",
    "            if i < T-1:\n",
    "                current_state[i+1] = int(sum(abs(np.array(trade_decision[max(0, i + 1 - delta_t):i + 1]))) != 0)\n",
    "        profit = sum((np.array(trade_decision) > 0) * buy_profit + (np.array(trade_decision) < 0) * sell_profit)\n",
    "        return profit     "
   ]
  },
  {
   "cell_type": "code",
   "execution_count": 67,
   "metadata": {
    "collapsed": false
   },
   "outputs": [
    {
     "data": {
      "text/plain": [
       "2"
      ]
     },
     "execution_count": 67,
     "metadata": {},
     "output_type": "execute_result"
    }
   ],
   "source": [
    "abs(np.array([1, 2, -2, -3]))[1]"
   ]
  },
  {
   "cell_type": "code",
   "execution_count": 56,
   "metadata": {
    "collapsed": false
   },
   "outputs": [
    {
     "data": {
      "text/plain": [
       "True"
      ]
     },
     "execution_count": 56,
     "metadata": {},
     "output_type": "execute_result"
    }
   ],
   "source": [
    "1 == True"
   ]
  },
  {
   "cell_type": "code",
   "execution_count": null,
   "metadata": {
    "collapsed": true
   },
   "outputs": [],
   "source": []
  }
 ],
 "metadata": {
  "kernelspec": {
   "display_name": "Python 3",
   "language": "python",
   "name": "python3"
  },
  "language_info": {
   "codemirror_mode": {
    "name": "ipython",
    "version": 3
   },
   "file_extension": ".py",
   "mimetype": "text/x-python",
   "name": "python",
   "nbconvert_exporter": "python",
   "pygments_lexer": "ipython3",
   "version": "3.5.1"
  }
 },
 "nbformat": 4,
 "nbformat_minor": 0
}
