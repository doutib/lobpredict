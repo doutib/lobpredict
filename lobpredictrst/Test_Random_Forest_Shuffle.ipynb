{
 "cells": [
  {
   "cell_type": "code",
   "execution_count": 1,
   "metadata": {
    "collapsed": true
   },
   "outputs": [],
   "source": [
    "import sys\n",
    "import imp\n",
    "import yaml\n",
    "import csv\n",
    "import pandas as pd\n",
    "import re\n",
    "import numpy as np\n",
    "# Import the random forest package\n",
    "from sklearn.ensemble import RandomForestClassifier\n",
    "from sklearn.metrics import classification_report"
   ]
  },
  {
   "cell_type": "code",
   "execution_count": 2,
   "metadata": {
    "collapsed": true
   },
   "outputs": [],
   "source": [
    "def label_percent(v):\n",
    "    l=len(v)\n",
    "    pos=sum(x > 0 for x in v)/l\n",
    "    neg=sum(x < 0 for x in v)/l\n",
    "    zero=sum(x == 0 for x in v)/l\n",
    "    print('Pos:'+str(\"{0:.2f}\".format(pos))+\"; Neg:\"+str(\"{0:.2f}\".format(neg))+'; Zero:'+str(\"{0:.2f}\".format(zero))+';')"
   ]
  },
  {
   "cell_type": "code",
   "execution_count": 3,
   "metadata": {
    "collapsed": true
   },
   "outputs": [],
   "source": [
    "# Open test and train sets\n",
    "df_train = pd.read_csv(\"data/output/model_clean_data/train_2.tar.gz\", compression='gzip', index_col = None)\n",
    "df_test  = pd.read_csv(\"data/output/model_clean_data/test_2.tar.gz\" , compression='gzip', index_col = None)"
   ]
  },
  {
   "cell_type": "code",
   "execution_count": 4,
   "metadata": {
    "collapsed": false
   },
   "outputs": [],
   "source": [
    "# df_train.head()"
   ]
  },
  {
   "cell_type": "code",
   "execution_count": 5,
   "metadata": {
    "collapsed": false
   },
   "outputs": [],
   "source": [
    "# df_test.columns"
   ]
  },
  {
   "cell_type": "code",
   "execution_count": 6,
   "metadata": {
    "collapsed": false
   },
   "outputs": [],
   "source": [
    "#X_test_new = df_test.drop(df_test.columns[['labels', 'train.csv', 'index']], axis = 1)\n",
    "x = df_test.drop(['labels', 'test.csv', 'index'], axis=1)"
   ]
  },
  {
   "cell_type": "code",
   "execution_count": 7,
   "metadata": {
    "collapsed": false
   },
   "outputs": [
    {
     "data": {
      "text/html": [
       "<div>\n",
       "<table border=\"1\" class=\"dataframe\">\n",
       "  <thead>\n",
       "    <tr style=\"text-align: right;\">\n",
       "      <th></th>\n",
       "      <th>Time</th>\n",
       "      <th>P_1_bid</th>\n",
       "      <th>V_1_bid</th>\n",
       "      <th>P_1_ask</th>\n",
       "      <th>V_1_ask</th>\n",
       "      <th>P_2_bid</th>\n",
       "      <th>V_2_bid</th>\n",
       "      <th>P_2_ask</th>\n",
       "      <th>V_2_ask</th>\n",
       "      <th>P_3_bid</th>\n",
       "      <th>...</th>\n",
       "      <th>V_ask_8_deriv</th>\n",
       "      <th>V_bid_8_deriv</th>\n",
       "      <th>P_ask_9_deriv</th>\n",
       "      <th>P_bid_9_deriv</th>\n",
       "      <th>V_ask_9_deriv</th>\n",
       "      <th>V_bid_9_deriv</th>\n",
       "      <th>P_ask_10_deriv</th>\n",
       "      <th>P_bid_10_deriv</th>\n",
       "      <th>V_ask_10_deriv</th>\n",
       "      <th>V_bid_10_deriv</th>\n",
       "    </tr>\n",
       "  </thead>\n",
       "  <tbody>\n",
       "    <tr>\n",
       "      <th>0</th>\n",
       "      <td>1449.383</td>\n",
       "      <td>571.01</td>\n",
       "      <td>14</td>\n",
       "      <td>571.31</td>\n",
       "      <td>200</td>\n",
       "      <td>571.00</td>\n",
       "      <td>145</td>\n",
       "      <td>571.36</td>\n",
       "      <td>42</td>\n",
       "      <td>570.97</td>\n",
       "      <td>...</td>\n",
       "      <td>6.666667</td>\n",
       "      <td>-30.000000</td>\n",
       "      <td>-0.001667</td>\n",
       "      <td>-0.002000</td>\n",
       "      <td>0.000000</td>\n",
       "      <td>0.000000</td>\n",
       "      <td>-0.003667</td>\n",
       "      <td>-0.004667</td>\n",
       "      <td>-2.433333</td>\n",
       "      <td>0.000000</td>\n",
       "    </tr>\n",
       "    <tr>\n",
       "      <th>1</th>\n",
       "      <td>4533.713</td>\n",
       "      <td>569.32</td>\n",
       "      <td>300</td>\n",
       "      <td>569.69</td>\n",
       "      <td>100</td>\n",
       "      <td>569.30</td>\n",
       "      <td>8</td>\n",
       "      <td>569.76</td>\n",
       "      <td>60</td>\n",
       "      <td>569.29</td>\n",
       "      <td>...</td>\n",
       "      <td>-6.600000</td>\n",
       "      <td>0.433333</td>\n",
       "      <td>0.002333</td>\n",
       "      <td>0.000667</td>\n",
       "      <td>5.000000</td>\n",
       "      <td>2.900000</td>\n",
       "      <td>0.002333</td>\n",
       "      <td>0.000333</td>\n",
       "      <td>-1.666667</td>\n",
       "      <td>-3.333333</td>\n",
       "    </tr>\n",
       "    <tr>\n",
       "      <th>2</th>\n",
       "      <td>3003.506</td>\n",
       "      <td>568.71</td>\n",
       "      <td>91</td>\n",
       "      <td>568.92</td>\n",
       "      <td>112</td>\n",
       "      <td>568.70</td>\n",
       "      <td>210</td>\n",
       "      <td>568.93</td>\n",
       "      <td>100</td>\n",
       "      <td>568.62</td>\n",
       "      <td>...</td>\n",
       "      <td>-10.000000</td>\n",
       "      <td>-1.266667</td>\n",
       "      <td>-0.000667</td>\n",
       "      <td>0.001000</td>\n",
       "      <td>-1.433333</td>\n",
       "      <td>0.000000</td>\n",
       "      <td>-0.001333</td>\n",
       "      <td>0.000333</td>\n",
       "      <td>-9.800000</td>\n",
       "      <td>-1.666667</td>\n",
       "    </tr>\n",
       "    <tr>\n",
       "      <th>3</th>\n",
       "      <td>4852.284</td>\n",
       "      <td>567.01</td>\n",
       "      <td>100</td>\n",
       "      <td>567.28</td>\n",
       "      <td>800</td>\n",
       "      <td>567.00</td>\n",
       "      <td>1278</td>\n",
       "      <td>567.46</td>\n",
       "      <td>400</td>\n",
       "      <td>566.95</td>\n",
       "      <td>...</td>\n",
       "      <td>0.000000</td>\n",
       "      <td>-3.333333</td>\n",
       "      <td>0.001333</td>\n",
       "      <td>0.000000</td>\n",
       "      <td>3.333333</td>\n",
       "      <td>0.000000</td>\n",
       "      <td>0.002333</td>\n",
       "      <td>-0.001667</td>\n",
       "      <td>-5.000000</td>\n",
       "      <td>-6.666667</td>\n",
       "    </tr>\n",
       "    <tr>\n",
       "      <th>4</th>\n",
       "      <td>4676.789</td>\n",
       "      <td>567.77</td>\n",
       "      <td>200</td>\n",
       "      <td>568.00</td>\n",
       "      <td>150</td>\n",
       "      <td>567.76</td>\n",
       "      <td>100</td>\n",
       "      <td>568.02</td>\n",
       "      <td>43</td>\n",
       "      <td>567.74</td>\n",
       "      <td>...</td>\n",
       "      <td>0.000000</td>\n",
       "      <td>3.333333</td>\n",
       "      <td>-0.000667</td>\n",
       "      <td>0.000667</td>\n",
       "      <td>4.966667</td>\n",
       "      <td>-3.333333</td>\n",
       "      <td>-0.000667</td>\n",
       "      <td>0.000333</td>\n",
       "      <td>1.233333</td>\n",
       "      <td>-61.400000</td>\n",
       "    </tr>\n",
       "  </tbody>\n",
       "</table>\n",
       "<p>5 rows × 127 columns</p>\n",
       "</div>"
      ],
      "text/plain": [
       "       Time  P_1_bid  V_1_bid  P_1_ask  V_1_ask  P_2_bid  V_2_bid  P_2_ask  \\\n",
       "0  1449.383   571.01       14   571.31      200   571.00      145   571.36   \n",
       "1  4533.713   569.32      300   569.69      100   569.30        8   569.76   \n",
       "2  3003.506   568.71       91   568.92      112   568.70      210   568.93   \n",
       "3  4852.284   567.01      100   567.28      800   567.00     1278   567.46   \n",
       "4  4676.789   567.77      200   568.00      150   567.76      100   568.02   \n",
       "\n",
       "   V_2_ask  P_3_bid       ...        V_ask_8_deriv  V_bid_8_deriv  \\\n",
       "0       42   570.97       ...             6.666667     -30.000000   \n",
       "1       60   569.29       ...            -6.600000       0.433333   \n",
       "2      100   568.62       ...           -10.000000      -1.266667   \n",
       "3      400   566.95       ...             0.000000      -3.333333   \n",
       "4       43   567.74       ...             0.000000       3.333333   \n",
       "\n",
       "   P_ask_9_deriv  P_bid_9_deriv  V_ask_9_deriv  V_bid_9_deriv  P_ask_10_deriv  \\\n",
       "0      -0.001667      -0.002000       0.000000       0.000000       -0.003667   \n",
       "1       0.002333       0.000667       5.000000       2.900000        0.002333   \n",
       "2      -0.000667       0.001000      -1.433333       0.000000       -0.001333   \n",
       "3       0.001333       0.000000       3.333333       0.000000        0.002333   \n",
       "4      -0.000667       0.000667       4.966667      -3.333333       -0.000667   \n",
       "\n",
       "   P_bid_10_deriv  V_ask_10_deriv  V_bid_10_deriv  \n",
       "0       -0.004667       -2.433333        0.000000  \n",
       "1        0.000333       -1.666667       -3.333333  \n",
       "2        0.000333       -9.800000       -1.666667  \n",
       "3       -0.001667       -5.000000       -6.666667  \n",
       "4        0.000333        1.233333      -61.400000  \n",
       "\n",
       "[5 rows x 127 columns]"
      ]
     },
     "execution_count": 7,
     "metadata": {},
     "output_type": "execute_result"
    }
   ],
   "source": [
    "x.head()"
   ]
  },
  {
   "cell_type": "code",
   "execution_count": 8,
   "metadata": {
    "collapsed": false
   },
   "outputs": [],
   "source": [
    "# Define test/training set\n",
    "X_test   =  np.array(df_test.drop(['labels', 'test.csv', 'index', 'Time'], axis = 1))\n",
    "Y_test   =  np.array(df_test[['labels']])[:,0]\n",
    "X_train  =  np.array(df_train.drop(['labels', 'train.csv', 'index', 'Time'], axis = 1))\n",
    "Y_train  =  np.array(df_train[['labels']])[:,0]"
   ]
  },
  {
   "cell_type": "code",
   "execution_count": 9,
   "metadata": {
    "collapsed": false
   },
   "outputs": [
    {
     "data": {
      "text/plain": [
       "['P_1_bid',\n",
       " 'V_1_bid',\n",
       " 'P_1_ask',\n",
       " 'V_1_ask',\n",
       " 'P_2_bid',\n",
       " 'V_2_bid',\n",
       " 'P_2_ask',\n",
       " 'V_2_ask',\n",
       " 'P_3_bid',\n",
       " 'V_3_bid',\n",
       " 'P_3_ask',\n",
       " 'V_3_ask',\n",
       " 'P_4_bid',\n",
       " 'V_4_bid',\n",
       " 'P_4_ask',\n",
       " 'V_4_ask',\n",
       " 'P_5_bid',\n",
       " 'V_5_bid',\n",
       " 'P_5_ask',\n",
       " 'V_5_ask',\n",
       " 'P_6_bid',\n",
       " 'V_6_bid',\n",
       " 'P_6_ask',\n",
       " 'V_6_ask',\n",
       " 'P_7_bid',\n",
       " 'V_7_bid',\n",
       " 'P_7_ask',\n",
       " 'V_7_ask',\n",
       " 'P_8_bid',\n",
       " 'V_8_bid',\n",
       " 'P_8_ask',\n",
       " 'V_8_ask',\n",
       " 'P_9_bid',\n",
       " 'V_9_bid',\n",
       " 'P_9_ask',\n",
       " 'V_9_ask',\n",
       " 'P_10_bid',\n",
       " 'V_10_bid',\n",
       " 'P_10_ask',\n",
       " 'V_10_ask',\n",
       " 'spreads_1',\n",
       " 'mid_price_1',\n",
       " 'spreads_2',\n",
       " 'mid_price_2',\n",
       " 'spreads_3',\n",
       " 'mid_price_3',\n",
       " 'spreads_4',\n",
       " 'mid_price_4',\n",
       " 'spreads_5',\n",
       " 'mid_price_5',\n",
       " 'spreads_6',\n",
       " 'mid_price_6',\n",
       " 'spreads_7',\n",
       " 'mid_price_7',\n",
       " 'spreads_8',\n",
       " 'mid_price_8',\n",
       " 'spreads_9',\n",
       " 'mid_price_9',\n",
       " 'spreads_10',\n",
       " 'mid_price_10',\n",
       " 'P_diff_ask_10_1',\n",
       " 'P_diff_bid_1_10',\n",
       " 'P_diff_ask_1_2',\n",
       " 'P_diff_bid_1_2',\n",
       " 'P_diff_ask_2_3',\n",
       " 'P_diff_bid_2_3',\n",
       " 'P_diff_ask_3_4',\n",
       " 'P_diff_bid_3_4',\n",
       " 'P_diff_ask_4_5',\n",
       " 'P_diff_bid_4_5',\n",
       " 'P_diff_ask_5_6',\n",
       " 'P_diff_bid_5_6',\n",
       " 'P_diff_ask_6_7',\n",
       " 'P_diff_bid_6_7',\n",
       " 'P_diff_ask_7_8',\n",
       " 'P_diff_bid_7_8',\n",
       " 'P_diff_ask_8_9',\n",
       " 'P_diff_bid_8_9',\n",
       " 'P_diff_ask_9_10',\n",
       " 'P_diff_bid_9_10',\n",
       " 'Mean_ask_price',\n",
       " 'Mean_bid_price',\n",
       " 'Mean_ask_volumn',\n",
       " 'Mean_bid_volumn',\n",
       " 'Accum_diff_price',\n",
       " 'Accum_diff_volumn',\n",
       " 'P_ask_1_deriv',\n",
       " 'P_bid_1_deriv',\n",
       " 'V_ask_1_deriv',\n",
       " 'V_bid_1_deriv',\n",
       " 'P_ask_2_deriv',\n",
       " 'P_bid_2_deriv',\n",
       " 'V_ask_2_deriv',\n",
       " 'V_bid_2_deriv',\n",
       " 'P_ask_3_deriv',\n",
       " 'P_bid_3_deriv',\n",
       " 'V_ask_3_deriv',\n",
       " 'V_bid_3_deriv',\n",
       " 'P_ask_4_deriv',\n",
       " 'P_bid_4_deriv',\n",
       " 'V_ask_4_deriv',\n",
       " 'V_bid_4_deriv',\n",
       " 'P_ask_5_deriv',\n",
       " 'P_bid_5_deriv',\n",
       " 'V_ask_5_deriv',\n",
       " 'V_bid_5_deriv',\n",
       " 'P_ask_6_deriv',\n",
       " 'P_bid_6_deriv',\n",
       " 'V_ask_6_deriv',\n",
       " 'V_bid_6_deriv',\n",
       " 'P_ask_7_deriv',\n",
       " 'P_bid_7_deriv',\n",
       " 'V_ask_7_deriv',\n",
       " 'V_bid_7_deriv',\n",
       " 'P_ask_8_deriv',\n",
       " 'P_bid_8_deriv',\n",
       " 'V_ask_8_deriv',\n",
       " 'V_bid_8_deriv',\n",
       " 'P_ask_9_deriv',\n",
       " 'P_bid_9_deriv',\n",
       " 'V_ask_9_deriv',\n",
       " 'V_bid_9_deriv',\n",
       " 'P_ask_10_deriv',\n",
       " 'P_bid_10_deriv',\n",
       " 'V_ask_10_deriv',\n",
       " 'V_bid_10_deriv']"
      ]
     },
     "execution_count": 9,
     "metadata": {},
     "output_type": "execute_result"
    }
   ],
   "source": [
    "X_train_cols  =  list(df_train.drop(['labels', 'train.csv', 'index', 'Time'], axis=1).columns.values)\n",
    "X_train_cols"
   ]
  },
  {
   "cell_type": "code",
   "execution_count": 10,
   "metadata": {
    "collapsed": false
   },
   "outputs": [
    {
     "name": "stdout",
     "output_type": "stream",
     "text": [
      "Pos:0.36; Neg:0.39; Zero:0.25;\n"
     ]
    },
    {
     "data": {
      "text/plain": [
       "101660"
      ]
     },
     "execution_count": 10,
     "metadata": {},
     "output_type": "execute_result"
    }
   ],
   "source": [
    "label_percent(Y_train)\n",
    "Y_train.size"
   ]
  },
  {
   "cell_type": "code",
   "execution_count": 11,
   "metadata": {
    "collapsed": false
   },
   "outputs": [
    {
     "name": "stdout",
     "output_type": "stream",
     "text": [
      "Pos:0.36; Neg:0.39; Zero:0.25;\n"
     ]
    },
    {
     "data": {
      "text/plain": [
       "50830"
      ]
     },
     "execution_count": 11,
     "metadata": {},
     "output_type": "execute_result"
    }
   ],
   "source": [
    "label_percent(Y_test)\n",
    "Y_test.size"
   ]
  },
  {
   "cell_type": "code",
   "execution_count": 12,
   "metadata": {
    "collapsed": false
   },
   "outputs": [
    {
     "name": "stdout",
     "output_type": "stream",
     "text": [
      "             precision    recall  f1-score   support\n",
      "\n",
      "         -1       0.55      0.77      0.64     19726\n",
      "          0       0.89      0.10      0.18     12698\n",
      "          1       0.57      0.68      0.62     18406\n",
      "\n",
      "avg / total       0.64      0.57      0.52     50830\n",
      "\n"
     ]
    }
   ],
   "source": [
    "# Create the random forest object which will include all the parameters\n",
    "# for the fit\n",
    "forest = RandomForestClassifier(n_estimators = 100, max_depth=10)\n",
    "\n",
    "# Fit the training data to the Survived labels and create the decision trees\n",
    "forest = forest.fit(X_train, Y_train)\n",
    "\n",
    "# Take the same decision trees and run it on the test data\n",
    "output = forest.predict(X_test)\n",
    "\n",
    "classification_report1 = classification_report(y_true=Y_test, y_pred=output)\n",
    "print(classification_report1)"
   ]
  },
  {
   "cell_type": "code",
   "execution_count": 13,
   "metadata": {
    "collapsed": false
   },
   "outputs": [],
   "source": [
    "importances = forest.feature_importances_\n",
    "std = np.std([tree.feature_importances_ for tree in forest.estimators_],\n",
    "             axis=0)\n",
    "indices = np.argsort(importances)[::-1]"
   ]
  },
  {
   "cell_type": "code",
   "execution_count": 16,
   "metadata": {
    "collapsed": false
   },
   "outputs": [
    {
     "name": "stdout",
     "output_type": "stream",
     "text": [
      "Feature ranking:\n",
      "1. feature P_1_bid (0.038041)\n",
      "2. feature V_1_bid (0.023346)\n",
      "3. feature P_1_ask (0.023254)\n",
      "4. feature V_1_ask (0.019272)\n",
      "5. feature P_2_bid (0.019214)\n",
      "6. feature V_2_bid (0.017794)\n",
      "7. feature P_2_ask (0.017557)\n",
      "8. feature V_2_ask (0.016292)\n",
      "9. feature P_3_bid (0.015924)\n",
      "10. feature V_3_bid (0.015410)\n",
      "11. feature P_3_ask (0.014684)\n",
      "12. feature V_3_ask (0.014511)\n",
      "13. feature P_4_bid (0.014487)\n",
      "14. feature V_4_bid (0.014132)\n",
      "15. feature P_4_ask (0.014011)\n",
      "16. feature V_4_ask (0.013961)\n",
      "17. feature P_5_bid (0.013046)\n",
      "18. feature V_5_bid (0.012974)\n",
      "19. feature P_5_ask (0.012429)\n",
      "20. feature V_5_ask (0.012217)\n",
      "21. feature P_6_bid (0.011674)\n",
      "22. feature V_6_bid (0.011509)\n",
      "23. feature P_6_ask (0.011460)\n",
      "24. feature V_6_ask (0.010520)\n",
      "25. feature P_7_bid (0.010049)\n",
      "26. feature V_7_bid (0.009809)\n",
      "27. feature P_7_ask (0.009640)\n",
      "28. feature V_7_ask (0.009042)\n",
      "29. feature P_8_bid (0.009036)\n",
      "30. feature V_8_bid (0.008851)\n",
      "31. feature P_8_ask (0.008837)\n",
      "32. feature V_8_ask (0.008774)\n",
      "33. feature P_9_bid (0.008647)\n",
      "34. feature V_9_bid (0.008490)\n",
      "35. feature P_9_ask (0.008316)\n",
      "36. feature V_9_ask (0.008141)\n",
      "37. feature P_10_bid (0.008083)\n",
      "38. feature V_10_bid (0.008077)\n",
      "39. feature P_10_ask (0.007916)\n",
      "40. feature V_10_ask (0.007827)\n",
      "41. feature spreads_1 (0.007681)\n",
      "42. feature mid_price_1 (0.007546)\n",
      "43. feature spreads_2 (0.007522)\n",
      "44. feature mid_price_2 (0.007429)\n",
      "45. feature spreads_3 (0.007426)\n",
      "46. feature mid_price_3 (0.007326)\n",
      "47. feature spreads_4 (0.007311)\n",
      "48. feature mid_price_4 (0.007252)\n",
      "49. feature spreads_5 (0.007174)\n",
      "50. feature mid_price_5 (0.007086)\n",
      "51. feature spreads_6 (0.006878)\n",
      "52. feature mid_price_6 (0.006813)\n",
      "53. feature spreads_7 (0.006801)\n",
      "54. feature mid_price_7 (0.006794)\n",
      "55. feature spreads_8 (0.006754)\n",
      "56. feature mid_price_8 (0.006627)\n",
      "57. feature spreads_9 (0.006579)\n",
      "58. feature mid_price_9 (0.006537)\n",
      "59. feature spreads_10 (0.006521)\n",
      "60. feature mid_price_10 (0.006491)\n",
      "61. feature P_diff_ask_10_1 (0.006466)\n",
      "62. feature P_diff_bid_1_10 (0.006411)\n",
      "63. feature P_diff_ask_1_2 (0.006328)\n",
      "64. feature P_diff_bid_1_2 (0.006300)\n",
      "65. feature P_diff_ask_2_3 (0.006299)\n",
      "66. feature P_diff_bid_2_3 (0.006282)\n",
      "67. feature P_diff_ask_3_4 (0.006244)\n",
      "68. feature P_diff_bid_3_4 (0.006169)\n",
      "69. feature P_diff_ask_4_5 (0.006157)\n",
      "70. feature P_diff_bid_4_5 (0.006135)\n",
      "71. feature P_diff_ask_5_6 (0.006083)\n",
      "72. feature P_diff_bid_5_6 (0.005976)\n",
      "73. feature P_diff_ask_6_7 (0.005928)\n",
      "74. feature P_diff_bid_6_7 (0.005915)\n",
      "75. feature P_diff_ask_7_8 (0.005879)\n",
      "76. feature P_diff_bid_7_8 (0.005878)\n",
      "77. feature P_diff_ask_8_9 (0.005875)\n",
      "78. feature P_diff_bid_8_9 (0.005858)\n",
      "79. feature P_diff_ask_9_10 (0.005798)\n",
      "80. feature P_diff_bid_9_10 (0.005715)\n",
      "81. feature Mean_ask_price (0.005709)\n",
      "82. feature Mean_bid_price (0.005689)\n",
      "83. feature Mean_ask_volumn (0.005645)\n",
      "84. feature Mean_bid_volumn (0.005625)\n",
      "85. feature Accum_diff_price (0.005565)\n",
      "86. feature Accum_diff_volumn (0.005530)\n",
      "87. feature P_ask_1_deriv (0.005529)\n",
      "88. feature P_bid_1_deriv (0.005526)\n",
      "89. feature V_ask_1_deriv (0.005394)\n",
      "90. feature V_bid_1_deriv (0.005381)\n",
      "91. feature P_ask_2_deriv (0.005348)\n",
      "92. feature P_bid_2_deriv (0.005245)\n",
      "93. feature V_ask_2_deriv (0.005220)\n",
      "94. feature V_bid_2_deriv (0.005196)\n",
      "95. feature P_ask_3_deriv (0.005162)\n",
      "96. feature P_bid_3_deriv (0.005129)\n",
      "97. feature V_ask_3_deriv (0.005122)\n",
      "98. feature V_bid_3_deriv (0.005041)\n",
      "99. feature P_ask_4_deriv (0.004935)\n",
      "100. feature P_bid_4_deriv (0.004860)\n",
      "101. feature V_ask_4_deriv (0.004857)\n",
      "102. feature V_bid_4_deriv (0.004741)\n",
      "103. feature P_ask_5_deriv (0.004736)\n",
      "104. feature P_bid_5_deriv (0.004720)\n",
      "105. feature V_ask_5_deriv (0.004691)\n",
      "106. feature V_bid_5_deriv (0.004496)\n",
      "107. feature P_ask_6_deriv (0.004461)\n",
      "108. feature P_bid_6_deriv (0.004444)\n",
      "109. feature V_ask_6_deriv (0.004434)\n",
      "110. feature V_bid_6_deriv (0.004389)\n",
      "111. feature P_ask_7_deriv (0.004355)\n",
      "112. feature P_bid_7_deriv (0.004322)\n",
      "113. feature V_ask_7_deriv (0.004307)\n",
      "114. feature V_bid_7_deriv (0.004276)\n",
      "115. feature P_ask_8_deriv (0.004209)\n",
      "116. feature P_bid_8_deriv (0.004059)\n",
      "117. feature V_ask_8_deriv (0.004029)\n",
      "118. feature V_bid_8_deriv (0.003980)\n",
      "119. feature P_ask_9_deriv (0.003979)\n",
      "120. feature P_bid_9_deriv (0.003737)\n",
      "121. feature V_ask_9_deriv (0.003668)\n",
      "122. feature V_bid_9_deriv (0.003504)\n",
      "123. feature P_ask_10_deriv (0.003240)\n",
      "124. feature P_bid_10_deriv (0.003167)\n",
      "125. feature V_ask_10_deriv (0.002854)\n",
      "126. feature V_bid_10_deriv (0.000000)\n"
     ]
    }
   ],
   "source": [
    "# Print the feature ranking\n",
    "print(\"Feature ranking:\")\n",
    "\n",
    "for f in range(X_train.shape[1]):\n",
    "    #print(\"%d. feature %d (%f)\" % (f + 1, indices[f], importances[indices[f]]))\n",
    "    print(\"%d. feature %s (%f)\" % (f + 1, X_train_cols[f], importances[indices[f]]))"
   ]
  },
  {
   "cell_type": "code",
   "execution_count": 18,
   "metadata": {
    "collapsed": false
   },
   "outputs": [],
   "source": [
    "var_importance = [(f+1, X_train_cols[f], importances[indices[f]]) for f in range(X_train.shape[1])]"
   ]
  },
  {
   "cell_type": "code",
   "execution_count": 20,
   "metadata": {
    "collapsed": false
   },
   "outputs": [
    {
     "ename": "TypeError",
     "evalue": "sequence item 0: expected str instance, tuple found",
     "output_type": "error",
     "traceback": [
      "\u001b[0;31m---------------------------------------------------------------------------\u001b[0m",
      "\u001b[0;31mTypeError\u001b[0m                                 Traceback (most recent call last)",
      "\u001b[0;32m<ipython-input-20-39fcb83360c1>\u001b[0m in \u001b[0;36m<module>\u001b[0;34m()\u001b[0m\n\u001b[0;32m----> 1\u001b[0;31m \u001b[0mprint\u001b[0m\u001b[0;34m(\u001b[0m\u001b[0;34m\"\\n\"\u001b[0m\u001b[0;34m.\u001b[0m\u001b[0mjoin\u001b[0m\u001b[0;34m(\u001b[0m\u001b[0mvar_importance\u001b[0m\u001b[0;34m)\u001b[0m\u001b[0;34m)\u001b[0m\u001b[0;34m\u001b[0m\u001b[0m\n\u001b[0m",
      "\u001b[0;31mTypeError\u001b[0m: sequence item 0: expected str instance, tuple found"
     ]
    }
   ],
   "source": [
    "print(\"\\n\".join(var_importance))"
   ]
  },
  {
   "cell_type": "code",
   "execution_count": null,
   "metadata": {
    "collapsed": false
   },
   "outputs": [],
   "source": [
    "print(output)"
   ]
  },
  {
   "cell_type": "code",
   "execution_count": null,
   "metadata": {
    "collapsed": false
   },
   "outputs": [],
   "source": [
    "label_percent(output)"
   ]
  },
  {
   "cell_type": "code",
   "execution_count": null,
   "metadata": {
    "collapsed": false
   },
   "outputs": [],
   "source": [
    "from sklearn.cross_validation import StratifiedShuffleSplit\n",
    "X = np.array([[1, 2], [3, 4], [1, 2], [3, 4]])\n",
    "y = np.array([0, 0, 1, 1])\n",
    "sss = StratifiedShuffleSplit(y, 3, test_size=0.5, random_state=0)\n",
    "len(sss)"
   ]
  },
  {
   "cell_type": "code",
   "execution_count": null,
   "metadata": {
    "collapsed": false
   },
   "outputs": [],
   "source": [
    "sss"
   ]
  },
  {
   "cell_type": "code",
   "execution_count": null,
   "metadata": {
    "collapsed": false
   },
   "outputs": [],
   "source": [
    "print(sss)"
   ]
  },
  {
   "cell_type": "code",
   "execution_count": null,
   "metadata": {
    "collapsed": true
   },
   "outputs": [],
   "source": []
  }
 ],
 "metadata": {
  "kernelspec": {
   "display_name": "Python 3",
   "language": "python",
   "name": "python3"
  },
  "language_info": {
   "codemirror_mode": {
    "name": "ipython",
    "version": 3
   },
   "file_extension": ".py",
   "mimetype": "text/x-python",
   "name": "python",
   "nbconvert_exporter": "python",
   "pygments_lexer": "ipython3",
   "version": "3.5.1"
  }
 },
 "nbformat": 4,
 "nbformat_minor": 0
}
